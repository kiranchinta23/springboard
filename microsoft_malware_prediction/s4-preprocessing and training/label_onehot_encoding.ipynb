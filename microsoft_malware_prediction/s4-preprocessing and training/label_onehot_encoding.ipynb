{
  "nbformat": 4,
  "nbformat_minor": 0,
  "metadata": {
    "colab": {
      "name": "label_onehot_encoding.ipynb",
      "provenance": [],
      "machine_shape": "hm"
    },
    "kernelspec": {
      "name": "python3",
      "display_name": "Python 3"
    },
    "accelerator": "GPU"
  },
  "cells": [
    {
      "cell_type": "markdown",
      "metadata": {
        "id": "61V76IHTksAt",
        "colab_type": "text"
      },
      "source": [
        "# ***Data Encoding***\n",
        "Not all machine learning methods can handle all sorts of features (expicitly the categorical features). Therefor features are encoded to ensure a smooth processing. This file encode train and test data.\n",
        "\n",
        "In the following features are encoded by one of two methods:\n",
        "\n",
        "Label_Encoding: Label Encoding transform values to become numbers between  0  and  𝑛−1 , where  𝑛  is the number of different labels Frequency_Encoding: Frequency Encoding is a special case of Label Encoding. Feature values are encoded based on there frequency. Transformed values are numbers between  0  and  𝑚 , where  𝑚  is the number of values with a frequency greater or equal than 2. The resulting encoded data is stored under ../data/train_endcoding.csv and ../data/test_encoding.csv."
      ]
    },
    {
      "cell_type": "markdown",
      "metadata": {
        "id": "rf-ZfA8MUTmC",
        "colab_type": "text"
      },
      "source": [
        "# **import libararies**"
      ]
    },
    {
      "cell_type": "code",
      "metadata": {
        "id": "-jk-YveMKnwr",
        "colab_type": "code",
        "colab": {
          "base_uri": "https://localhost:8080/",
          "height": 419
        },
        "outputId": "f5b71ebe-7829-4e6b-a789-bef32adf785a"
      },
      "source": [
        "import pandas as pd\n",
        "import numpy as np\n",
        "%pip install dask[dataframe]\n",
        "import dask.dataframe as dd\n",
        "from sklearn import preprocessing\n",
        "from tqdm import tqdm\n",
        "import gc\n",
        "import sys\n",
        "import pickle\n",
        "import warnings\n",
        "from sklearn.model_selection import train_test_split, cross_val_score, GridSearchCV\n",
        "from sklearn.pipeline import Pipeline\n",
        "from sklearn.metrics import classification_report\n",
        "from sklearn.linear_model import LogisticRegression\n",
        "import pandas.core.algorithms as algos\n",
        "from pandas import Series\n",
        "import scipy.stats.stats as stats\n",
        "import re\n",
        "import traceback\n",
        "import string\n",
        "if not sys.warnoptions:\n",
        "    warnings.simplefilter(\"ignore\")"
      ],
      "execution_count": null,
      "outputs": [
        {
          "output_type": "stream",
          "text": [
            "Requirement already satisfied: dask[dataframe] in /usr/local/lib/python3.6/dist-packages (2.12.0)\n",
            "Collecting partd>=0.3.10; extra == \"dataframe\"\n",
            "  Downloading https://files.pythonhosted.org/packages/44/e1/68dbe731c9c067655bff1eca5b7d40c20ca4b23fd5ec9f3d17e201a6f36b/partd-1.1.0-py3-none-any.whl\n",
            "Requirement already satisfied: numpy>=1.13.0; extra == \"dataframe\" in /usr/local/lib/python3.6/dist-packages (from dask[dataframe]) (1.18.5)\n",
            "Requirement already satisfied: pandas>=0.23.0; extra == \"dataframe\" in /usr/local/lib/python3.6/dist-packages (from dask[dataframe]) (1.0.5)\n",
            "Requirement already satisfied: toolz>=0.7.3; extra == \"dataframe\" in /usr/local/lib/python3.6/dist-packages (from dask[dataframe]) (0.10.0)\n",
            "Collecting fsspec>=0.6.0; extra == \"dataframe\"\n",
            "\u001b[?25l  Downloading https://files.pythonhosted.org/packages/e3/3d/f2762411c4b15a4c8391a182a3ace7ade3d861f686af90dcd0a336d4df2e/fsspec-0.8.2-py3-none-any.whl (87kB)\n",
            "\u001b[K     |████████████████████████████████| 92kB 4.6MB/s \n",
            "\u001b[?25hCollecting locket\n",
            "  Downloading https://files.pythonhosted.org/packages/d0/22/3c0f97614e0be8386542facb3a7dcfc2584f7b83608c02333bced641281c/locket-0.2.0.tar.gz\n",
            "Requirement already satisfied: python-dateutil>=2.6.1 in /usr/local/lib/python3.6/dist-packages (from pandas>=0.23.0; extra == \"dataframe\"->dask[dataframe]) (2.8.1)\n",
            "Requirement already satisfied: pytz>=2017.2 in /usr/local/lib/python3.6/dist-packages (from pandas>=0.23.0; extra == \"dataframe\"->dask[dataframe]) (2018.9)\n",
            "Requirement already satisfied: six>=1.5 in /usr/local/lib/python3.6/dist-packages (from python-dateutil>=2.6.1->pandas>=0.23.0; extra == \"dataframe\"->dask[dataframe]) (1.15.0)\n",
            "Building wheels for collected packages: locket\n",
            "  Building wheel for locket (setup.py) ... \u001b[?25l\u001b[?25hdone\n",
            "  Created wheel for locket: filename=locket-0.2.0-cp36-none-any.whl size=4040 sha256=9cd65e967fdbd9d6641a53fc4c69a1855ffdfafdfc35e54e101747bd8a997b20\n",
            "  Stored in directory: /root/.cache/pip/wheels/26/1e/e8/4fa236ec931b1a0cdd61578e20d4934d7bf188858723b84698\n",
            "Successfully built locket\n",
            "Installing collected packages: locket, partd, fsspec\n",
            "Successfully installed fsspec-0.8.2 locket-0.2.0 partd-1.1.0\n"
          ],
          "name": "stdout"
        }
      ]
    },
    {
      "cell_type": "code",
      "metadata": {
        "id": "9hqWtYWPUZvU",
        "colab_type": "code",
        "colab": {}
      },
      "source": [
        "dtypes = {\n",
        "        'MachineIdentifier':                                    'category',\n",
        "        'ProductName':                                          'category',\n",
        "        'EngineVersion':                                        'category',\n",
        "        'AppVersion':                                           'category',\n",
        "        'AvSigVersion':                                         'category',\n",
        "        'IsBeta':                                               'int8',\n",
        "        'RtpStateBitfield':                                     'float16',\n",
        "        'IsSxsPassiveMode':                                     'int8',\n",
        "        'DefaultBrowsersIdentifier':                            'float16',\n",
        "        'AVProductStatesIdentifier':                            'float32',\n",
        "        'AVProductsInstalled':                                  'float16',\n",
        "        'AVProductsEnabled':                                    'float16',\n",
        "        'HasTpm':                                               'int8',\n",
        "        'CountryIdentifier':                                    'int16',\n",
        "        'CityIdentifier':                                       'float32',\n",
        "        'OrganizationIdentifier':                               'float16',\n",
        "        'GeoNameIdentifier':                                    'float16',\n",
        "        'LocaleEnglishNameIdentifier':                          'int8',\n",
        "        'Platform':                                             'category',\n",
        "        'Processor':                                            'category',\n",
        "        'OsVer':                                                'category',\n",
        "        'OsBuild':                                              'int16',\n",
        "        'OsSuite':                                              'int16',\n",
        "        'OsPlatformSubRelease':                                 'category',\n",
        "        'OsBuildLab':                                           'category',\n",
        "        'SkuEdition':                                           'category',\n",
        "        'IsProtected':                                          'float16',\n",
        "        'AutoSampleOptIn':                                      'int8',\n",
        "        'PuaMode':                                              'category',\n",
        "        'SMode':                                                'float16',\n",
        "        'IeVerIdentifier':                                      'float16',\n",
        "        'SmartScreen':                                          'category',\n",
        "        'Firewall':                                             'float16',\n",
        "        'UacLuaenable':                                         'float32',\n",
        "        'Census_MDC2FormFactor':                                'category',\n",
        "        'Census_DeviceFamily':                                  'category',\n",
        "        'Census_OEMNameIdentifier':                             'float16',\n",
        "        'Census_OEMModelIdentifier':                            'float32',\n",
        "        'Census_ProcessorCoreCount':                            'float16',\n",
        "        'Census_ProcessorManufacturerIdentifier':               'float16',\n",
        "        'Census_ProcessorModelIdentifier':                      'float16',\n",
        "        'Census_ProcessorClass':                                'category',\n",
        "        'Census_PrimaryDiskTotalCapacity':                      'float32',\n",
        "        'Census_PrimaryDiskTypeName':                           'category',\n",
        "        'Census_SystemVolumeTotalCapacity':                     'float32',\n",
        "        'Census_HasOpticalDiskDrive':                           'int8',\n",
        "        'Census_TotalPhysicalRAM':                              'float32',\n",
        "        'Census_ChassisTypeName':                               'category',\n",
        "        'Census_InternalPrimaryDiagonalDisplaySizeInInches':    'float16',\n",
        "        'Census_InternalPrimaryDisplayResolutionHorizontal':    'float16',\n",
        "        'Census_InternalPrimaryDisplayResolutionVertical':      'float16',\n",
        "        'Census_PowerPlatformRoleName':                         'category',\n",
        "        'Census_InternalBatteryType':                           'category',\n",
        "        'Census_InternalBatteryNumberOfCharges':                'float32',\n",
        "        'Census_OSVersion':                                     'category',\n",
        "        'Census_OSArchitecture':                                'category',\n",
        "        'Census_OSBranch':                                      'category',\n",
        "        'Census_OSBuildNumber':                                 'int16',\n",
        "        'Census_OSBuildRevision':                               'int32',\n",
        "        'Census_OSEdition':                                     'category',\n",
        "        'Census_OSSkuName':                                     'category',\n",
        "        'Census_OSInstallTypeName':                             'category',\n",
        "        'Census_OSInstallLanguageIdentifier':                   'float16',\n",
        "        'Census_OSUILocaleIdentifier':                          'int16',\n",
        "        'Census_OSWUAutoUpdateOptionsName':                     'category',\n",
        "        'Census_IsPortableOperatingSystem':                     'int8',\n",
        "        'Census_GenuineStateName':                              'category',\n",
        "        'Census_ActivationChannel':                             'category',\n",
        "        'Census_IsFlightingInternal':                           'float16',\n",
        "        'Census_IsFlightsDisabled':                             'float16',\n",
        "        'Census_FlightRing':                                    'category',\n",
        "        'Census_ThresholdOptIn':                                'float16',\n",
        "        'Census_FirmwareManufacturerIdentifier':                'float16',\n",
        "        'Census_FirmwareVersionIdentifier':                     'float32',\n",
        "        'Census_IsSecureBootEnabled':                           'int8',\n",
        "        'Census_IsWIMBootEnabled':                              'float16',\n",
        "        'Census_IsVirtualDevice':                               'float16',\n",
        "        'Census_IsTouchEnabled':                                'int8',\n",
        "        'Census_IsPenCapable':                                  'int8',\n",
        "        'Census_IsAlwaysOnAlwaysConnectedCapable':              'float16',\n",
        "        'Wdft_IsGamer':                                         'float16',\n",
        "        'Wdft_RegionIdentifier':                                'float16',\n",
        "        'HasDetections':                                        'int8'\n",
        "        }"
      ],
      "execution_count": null,
      "outputs": []
    },
    {
      "cell_type": "code",
      "metadata": {
        "id": "KCF1TiJwUdej",
        "colab_type": "code",
        "colab": {}
      },
      "source": [
        "def convert_types(df):\n",
        "    # Convert data types to reduce memory\n",
        "    for c in df:\n",
        "        col_type = str(df[c].dtypes)\n",
        "        numerics = ['int16', 'int32', 'int64', 'float16', 'float32', 'float64']\n",
        "        \n",
        "        # Convert objects to category\n",
        "        if col_type == 'object':\n",
        "            df[c] = df[c].astype('category')\n",
        "        \n",
        "        # numerics\n",
        "        elif col_type in numerics:\n",
        "            c_min = df[c].min()\n",
        "            c_max = df[c].max()\n",
        "            if col_type[:3] == 'int':\n",
        "                if c_min > np.iinfo(np.int8).min and c_max < np.iinfo(np.int8).max:\n",
        "                    df[c] = df[c].astype(np.int8)\n",
        "                elif c_min > np.iinfo(np.int16).min and c_max < np.iinfo(np.int16).max:\n",
        "                    df[c] = df[c].astype(np.int16)\n",
        "                elif c_min > np.iinfo(np.int32).min and c_max < np.iinfo(np.int32).max:\n",
        "                    df[c] = df[c].astype(np.int32)\n",
        "                elif c_min > np.iinfo(np.int64).min and c_max < np.iinfo(np.int64).max:\n",
        "                    df[c] = df[c].astype(np.int64)  \n",
        "            else:\n",
        "                if c_min > np.finfo(np.float16).min and c_max < np.finfo(np.float16).max:\n",
        "                    df[c] = df[c].astype(np.float16)\n",
        "                elif c_min > np.finfo(np.float32).min and c_max < np.finfo(np.float32).max:\n",
        "                    df[c] = df[c].astype(np.float32)\n",
        "                else:\n",
        "                    df[c] = df[c].astype(np.float64)  \n",
        "        \n",
        "    return df"
      ],
      "execution_count": null,
      "outputs": []
    },
    {
      "cell_type": "markdown",
      "metadata": {
        "id": "TIgNbUu4UhVL",
        "colab_type": "text"
      },
      "source": [
        "## ***import data***"
      ]
    },
    {
      "cell_type": "code",
      "metadata": {
        "id": "cIrF2q2LUgUU",
        "colab_type": "code",
        "colab": {}
      },
      "source": [
        "# target column\n",
        "target = 'HasDetections'\n",
        "# id from data set\n",
        "data_id = 'MachineIdentifier'"
      ],
      "execution_count": null,
      "outputs": []
    },
    {
      "cell_type": "code",
      "metadata": {
        "id": "UhZ0cfArUmJ0",
        "colab_type": "code",
        "colab": {}
      },
      "source": [
        "# load train data set\n",
        "# use dask to load faster\n",
        "file = '/content/drive/My Drive/microsoft/train_featureengineering.csv'\n",
        "ddf = dd.read_csv(file, dtype = dtypes)\n",
        "train = ddf.compute()"
      ],
      "execution_count": null,
      "outputs": []
    },
    {
      "cell_type": "code",
      "metadata": {
        "id": "Fayd_eEoVFWD",
        "colab_type": "code",
        "colab": {
          "base_uri": "https://localhost:8080/",
          "height": 35
        },
        "outputId": "89d31071-6ce4-43a3-dff5-8d9d38d40856"
      },
      "source": [
        " train.shape"
      ],
      "execution_count": null,
      "outputs": [
        {
          "output_type": "execute_result",
          "data": {
            "text/plain": [
              "(8921483, 78)"
            ]
          },
          "metadata": {
            "tags": []
          },
          "execution_count": 11
        }
      ]
    },
    {
      "cell_type": "code",
      "metadata": {
        "id": "kXhXSK4aWAyP",
        "colab_type": "code",
        "colab": {}
      },
      "source": [
        "train = convert_types(train)"
      ],
      "execution_count": null,
      "outputs": []
    },
    {
      "cell_type": "code",
      "metadata": {
        "id": "Qp6v-Q2FGRxQ",
        "colab_type": "code",
        "colab": {}
      },
      "source": [
        "train_1=train[train['HasDetections']==1].sample(100000,random_state=42)\n",
        "train_0=train[train['HasDetections']==0].sample(100000,random_state=42)\n",
        "train_sample=pd.concat([train_1,train_0])"
      ],
      "execution_count": null,
      "outputs": []
    },
    {
      "cell_type": "code",
      "metadata": {
        "id": "o9dSAswpJiy5",
        "colab_type": "code",
        "colab": {
          "base_uri": "https://localhost:8080/",
          "height": 35
        },
        "outputId": "61c949de-63bc-47b8-987d-cf284e7e824c"
      },
      "source": [
        "train_sample.shape"
      ],
      "execution_count": null,
      "outputs": [
        {
          "output_type": "execute_result",
          "data": {
            "text/plain": [
              "(200000, 78)"
            ]
          },
          "metadata": {
            "tags": []
          },
          "execution_count": 29
        }
      ]
    },
    {
      "cell_type": "markdown",
      "metadata": {
        "id": "Tf3vxqXslNzQ",
        "colab_type": "text"
      },
      "source": [
        "# **Data Encoding**"
      ]
    },
    {
      "cell_type": "code",
      "metadata": {
        "id": "s5Bq5nGsWpHH",
        "colab_type": "code",
        "colab": {}
      },
      "source": [
        "list_frequency_encoding = ['AppVersion',\n",
        " 'AvSigVersion',\n",
        " 'Census_OSVersion',\n",
        " 'EngineVersion',\n",
        " 'OsBuildLab']"
      ],
      "execution_count": null,
      "outputs": []
    },
    {
      "cell_type": "code",
      "metadata": {
        "id": "J0vqoiFKJ5mS",
        "colab_type": "code",
        "colab": {}
      },
      "source": [
        "correct_feature_by_hand = ['AppVersion',\n",
        " 'AvSigVersion',\n",
        " 'Census_ActivationChannel',\n",
        " 'Census_ChassisTypeName',\n",
        " 'Census_DeviceFamily',\n",
        " 'Census_FlightRing',\n",
        " 'Census_GenuineStateName',\n",
        " 'Census_MDC2FormFactor',\n",
        " 'Census_OSArchitecture',\n",
        " 'Census_OSBranch',\n",
        " 'Census_OSEdition',\n",
        " 'Census_OSInstallTypeName',\n",
        " 'Census_OSSkuName',\n",
        " 'Census_OSVersion',\n",
        " 'Census_OSWUAutoUpdateOptionsName',\n",
        " 'Census_PowerPlatformRoleName',\n",
        " 'Census_PrimaryDiskTypeName',\n",
        " 'EngineVersion',\n",
        " 'MachineIdentifier',\n",
        " 'OsBuildLab',\n",
        " 'OsPlatformSubRelease',\n",
        " 'OsVer',\n",
        " 'Platform',\n",
        " 'Processor',\n",
        " 'SkuEdition',\n",
        " 'SmartScreen']"
      ],
      "execution_count": null,
      "outputs": []
    },
    {
      "cell_type": "code",
      "metadata": {
        "id": "j4iB2aZqJ7QU",
        "colab_type": "code",
        "colab": {}
      },
      "source": [
        "\n",
        "# new features from feature engineering\n",
        "new_features_labelencode = ['monitor_dims', 'SmartScreen_AVProductsInstalled']"
      ],
      "execution_count": null,
      "outputs": []
    },
    {
      "cell_type": "code",
      "metadata": {
        "id": "HvI_8x_oJ9eu",
        "colab_type": "code",
        "colab": {}
      },
      "source": [
        "list_label_encoding = list(set(correct_feature_by_hand)-set(list_frequency_encoding))\n",
        "list_label_encoding.remove(data_id)\n",
        "list_label_encoding.extend(new_features_labelencode)"
      ],
      "execution_count": null,
      "outputs": []
    },
    {
      "cell_type": "code",
      "metadata": {
        "id": "nWzTUuiJRTGP",
        "colab_type": "code",
        "colab": {
          "base_uri": "https://localhost:8080/",
          "height": 391
        },
        "outputId": "d245b5c4-d51c-4859-ecd3-489c8a5d72ba"
      },
      "source": [
        "list_label_encoding"
      ],
      "execution_count": null,
      "outputs": [
        {
          "output_type": "execute_result",
          "data": {
            "text/plain": [
              "['OsVer',\n",
              " 'Census_GenuineStateName',\n",
              " 'Census_ChassisTypeName',\n",
              " 'SmartScreen',\n",
              " 'Census_OSInstallTypeName',\n",
              " 'Census_OSEdition',\n",
              " 'Census_MDC2FormFactor',\n",
              " 'Census_FlightRing',\n",
              " 'Census_OSWUAutoUpdateOptionsName',\n",
              " 'OsPlatformSubRelease',\n",
              " 'Census_PowerPlatformRoleName',\n",
              " 'Census_OSArchitecture',\n",
              " 'Census_DeviceFamily',\n",
              " 'Census_OSBranch',\n",
              " 'Census_OSSkuName',\n",
              " 'Census_PrimaryDiskTypeName',\n",
              " 'Census_ActivationChannel',\n",
              " 'Platform',\n",
              " 'Processor',\n",
              " 'SkuEdition',\n",
              " 'monitor_dims',\n",
              " 'SmartScreen_AVProductsInstalled']"
            ]
          },
          "metadata": {
            "tags": []
          },
          "execution_count": 56
        }
      ]
    },
    {
      "cell_type": "code",
      "metadata": {
        "id": "K2mKh4rRJ_pX",
        "colab_type": "code",
        "colab": {}
      },
      "source": [
        "def frequency_encoding(feature):\n",
        "    # Count the number of values of each feature and reset the indices\n",
        "    t = train_sample[feature].value_counts().reset_index()\n",
        "    # Building up a new index (old index is set by default to 'level_0')\n",
        "    t = t.reset_index()\n",
        "    # Set the old index 'level_0' for all values, which only occur once, to NaN\n",
        "    t.loc[t[feature] == 1, 'level_0'] = np.nan\n",
        "    # Reset the original index (= the value name) as index\n",
        "    t.set_index('index', inplace=True)\n",
        "    # return the number of values , which occur two or more times, +1\n",
        "    max_label = t['level_0'].max() + 1\n",
        "    # fill all nan-values to max_label\n",
        "    t.fillna(max_label, inplace=True)\n",
        "    return t.to_dict()['level_0']"
      ],
      "execution_count": null,
      "outputs": []
    },
    {
      "cell_type": "code",
      "metadata": {
        "id": "glPEXMCyKBuP",
        "colab_type": "code",
        "colab": {}
      },
      "source": [
        "# Creating a dictionary for storing the encoder\n",
        "enc_dict = dict();"
      ],
      "execution_count": null,
      "outputs": []
    },
    {
      "cell_type": "code",
      "metadata": {
        "id": "Mz376dMJKEjo",
        "colab_type": "code",
        "colab": {
          "base_uri": "https://localhost:8080/",
          "height": 35
        },
        "outputId": "dc1e635a-1399-43b6-cae2-2e91b8596672"
      },
      "source": [
        "# Encode all the features in 'list_frequency_encoding'\n",
        "for feature in tqdm(list_frequency_encoding):\n",
        "    freq_enc_dict = frequency_encoding(feature)\n",
        "    train_sample[feature] = train_sample[feature].map(lambda x: freq_enc_dict.get(x, np.nan))\n",
        "    train_sample[feature] = train_sample[feature].astype('int64')    \n",
        "    # Save the freq_enc_dict\n",
        "    enc_dict[feature] = freq_enc_dict"
      ],
      "execution_count": null,
      "outputs": [
        {
          "output_type": "stream",
          "text": [
            "100%|██████████| 5/5 [00:00<00:00, 74.89it/s]\n"
          ],
          "name": "stderr"
        }
      ]
    },
    {
      "cell_type": "code",
      "metadata": {
        "id": "Gv-uHgJ3J7wL",
        "colab_type": "code",
        "colab": {
          "base_uri": "https://localhost:8080/",
          "height": 35
        },
        "outputId": "4e044f63-277e-4253-d004-6d80021f8df7"
      },
      "source": [
        "train_sample.shape"
      ],
      "execution_count": null,
      "outputs": [
        {
          "output_type": "execute_result",
          "data": {
            "text/plain": [
              "(200000, 78)"
            ]
          },
          "metadata": {
            "tags": []
          },
          "execution_count": 37
        }
      ]
    },
    {
      "cell_type": "code",
      "metadata": {
        "id": "fRoag5W5KIkY",
        "colab_type": "code",
        "colab": {}
      },
      "source": [
        "train_sample=pd.get_dummies(train_sample,columns=list_label_encoding)"
      ],
      "execution_count": null,
      "outputs": []
    },
    {
      "cell_type": "code",
      "metadata": {
        "id": "H2KNLAlXJ_ri",
        "colab_type": "code",
        "colab": {
          "base_uri": "https://localhost:8080/",
          "height": 35
        },
        "outputId": "7699f0ba-e61e-49d8-9b2c-8eca83c73a73"
      },
      "source": [
        "train_sample.shape"
      ],
      "execution_count": null,
      "outputs": [
        {
          "output_type": "execute_result",
          "data": {
            "text/plain": [
              "(200000, 10412)"
            ]
          },
          "metadata": {
            "tags": []
          },
          "execution_count": 41
        }
      ]
    },
    {
      "cell_type": "code",
      "metadata": {
        "id": "q4Ik_h9IDNE3",
        "colab_type": "code",
        "colab": {
          "base_uri": "https://localhost:8080/",
          "height": 35
        },
        "outputId": "d67be324-5221-4df2-99ff-73477c571647"
      },
      "source": [
        "from google.colab import drive\n",
        "drive.mount('/content/drive')"
      ],
      "execution_count": null,
      "outputs": [
        {
          "output_type": "stream",
          "text": [
            "Mounted at /content/drive\n"
          ],
          "name": "stdout"
        }
      ]
    },
    {
      "cell_type": "code",
      "metadata": {
        "id": "ULJMPJcaZFXj",
        "colab_type": "code",
        "colab": {}
      },
      "source": [
        "test = df[df[target].isnull()]\n",
        "test.shape"
      ],
      "execution_count": null,
      "outputs": []
    },
    {
      "cell_type": "code",
      "metadata": {
        "id": "lwik16lHogU-",
        "colab_type": "code",
        "colab": {}
      },
      "source": [
        "train=df[df[target].notnull]\n",
        "train.shape"
      ],
      "execution_count": null,
      "outputs": []
    },
    {
      "cell_type": "code",
      "metadata": {
        "id": "Uv0jZC052KGL",
        "colab_type": "code",
        "colab": {}
      },
      "source": [
        "# Save the encoded data-files\n",
        "train_sample.to_csv('/content/drive/My Drive/microsoft/train_sample_onehotencoding_sample.csv', index = False)"
      ],
      "execution_count": null,
      "outputs": []
    },
    {
      "cell_type": "markdown",
      "metadata": {
        "id": "7tPfPcR_xV7w",
        "colab_type": "text"
      },
      "source": [
        "### **Dimensionality Reduction**\n",
        "Since after one hot encoding, the dimension of the design matrix becomes huge such that training our model becomes computationally expensive. We use only a set of selected features for training our model. In stage 1 we use data_vars fumction to give us an initial estimate of the importance of features. After that we threshold the importance and remove the features which lie below a certain threshold. In second step we use iterate_vif function to remove highly coorelated indepedent variables"
      ]
    },
    {
      "cell_type": "markdown",
      "metadata": {
        "id": "kC6K2uLwpSSf",
        "colab_type": "text"
      },
      "source": [
        "**Taking the sample of population with equal distribution of HasDetections**"
      ]
    },
    {
      "cell_type": "code",
      "metadata": {
        "id": "mG7w5NQ1S3s4",
        "colab_type": "code",
        "colab": {
          "base_uri": "https://localhost:8080/",
          "height": 74
        },
        "outputId": "7a126b56-4067-4b4e-8181-c5e074aaf202"
      },
      "source": [
        "import statsmodels.api as sm\n",
        "from statsmodels.stats.outliers_influence import variance_inflation_factor"
      ],
      "execution_count": null,
      "outputs": [
        {
          "output_type": "stream",
          "text": [
            "/usr/local/lib/python3.6/dist-packages/statsmodels/tools/_testing.py:19: FutureWarning: pandas.util.testing is deprecated. Use the functions in the public API at pandas.testing instead.\n",
            "  import pandas.util.testing as tm\n"
          ],
          "name": "stderr"
        }
      ]
    },
    {
      "cell_type": "code",
      "metadata": {
        "id": "UJh7wuY6o2fC",
        "colab_type": "code",
        "colab": {}
      },
      "source": [
        "train_sample=pd.read_csv('/content/drive/My Drive/microsoft/train_sample_onehotencoding_sample.csv')"
      ],
      "execution_count": null,
      "outputs": []
    },
    {
      "cell_type": "code",
      "metadata": {
        "id": "3YYiEfO_JQjy",
        "colab_type": "code",
        "colab": {
          "base_uri": "https://localhost:8080/",
          "height": 35
        },
        "outputId": "d953d008-b4a7-479d-be58-f900750cb55b"
      },
      "source": [
        "train_sample.shape"
      ],
      "execution_count": null,
      "outputs": [
        {
          "output_type": "execute_result",
          "data": {
            "text/plain": [
              "(200000, 10412)"
            ]
          },
          "metadata": {
            "tags": []
          },
          "execution_count": 43
        }
      ]
    },
    {
      "cell_type": "code",
      "metadata": {
        "id": "eB5h7utYbs10",
        "colab_type": "code",
        "colab": {}
      },
      "source": [
        "# target column\n",
        "target = 'HasDetections'\n",
        "# id from data set\n",
        "data_id = 'MachineIdentifier'"
      ],
      "execution_count": null,
      "outputs": []
    },
    {
      "cell_type": "code",
      "metadata": {
        "id": "yfY3FiasrXk0",
        "colab_type": "code",
        "colab": {}
      },
      "source": [
        "y_train=train_sample[target]\n",
        "X_train=train_sample.drop([target,data_id],axis=1)"
      ],
      "execution_count": null,
      "outputs": []
    },
    {
      "cell_type": "code",
      "metadata": {
        "id": "RRD1GdT4sa4Y",
        "colab_type": "code",
        "colab": {}
      },
      "source": [
        "max_bin = 20\n",
        "force_bin = 3\n",
        "\n",
        "# define a binning function\n",
        "def mono_bin(Y, X, n = max_bin):\n",
        "    \n",
        "    df1 = pd.DataFrame({\"X\": X, \"Y\": Y})\n",
        "    justmiss = df1[['X','Y']][df1.X.isnull()]\n",
        "    notmiss = df1[['X','Y']][df1.X.notnull()]\n",
        "    r = 0\n",
        "    while np.abs(r) < 1:\n",
        "        try:\n",
        "            d1 = pd.DataFrame({\"X\": notmiss.X, \"Y\": notmiss.Y, \"Bucket\": pd.qcut(notmiss.X, n)})\n",
        "            d2 = d1.groupby('Bucket', as_index=True)\n",
        "            r, p = stats.spearmanr(d2.mean().X, d2.mean().Y)\n",
        "            n = n - 1 \n",
        "        except Exception as e:\n",
        "            n = n - 1\n",
        "\n",
        "    if len(d2) == 1:\n",
        "        n = force_bin         \n",
        "        bins = algos.quantile(notmiss.X, np.linspace(0, 1, n))\n",
        "        if len(np.unique(bins)) == 2:\n",
        "            bins = np.insert(bins, 0, 1)\n",
        "            bins[1] = bins[1]-(bins[1]/2)\n",
        "        d1 = pd.DataFrame({\"X\": notmiss.X, \"Y\": notmiss.Y, \"Bucket\": pd.cut(notmiss.X, np.unique(bins),include_lowest=True)}) \n",
        "        d2 = d1.groupby('Bucket', as_index=True)\n",
        "    \n",
        "    d3 = pd.DataFrame({},index=[])\n",
        "    d3[\"MIN_VALUE\"] = d2.min().X\n",
        "    d3[\"MAX_VALUE\"] = d2.max().X\n",
        "    d3[\"COUNT\"] = d2.count().Y\n",
        "    d3[\"EVENT\"] = d2.sum().Y\n",
        "    d3[\"NONEVENT\"] = d2.count().Y - d2.sum().Y\n",
        "    d3=d3.reset_index(drop=True)\n",
        "    \n",
        "    if len(justmiss.index) > 0:\n",
        "        d4 = pd.DataFrame({'MIN_VALUE':np.nan},index=[0])\n",
        "        d4[\"MAX_VALUE\"] = np.nan\n",
        "        d4[\"COUNT\"] = justmiss.count().Y\n",
        "        d4[\"EVENT\"] = justmiss.sum().Y\n",
        "        d4[\"NONEVENT\"] = justmiss.count().Y - justmiss.sum().Y\n",
        "        d3 = d3.append(d4,ignore_index=True)\n",
        "    \n",
        "    d3[\"EVENT_RATE\"] = d3.EVENT/d3.COUNT\n",
        "    d3[\"NON_EVENT_RATE\"] = d3.NONEVENT/d3.COUNT\n",
        "    d3[\"DIST_EVENT\"] = d3.EVENT/d3.sum().EVENT\n",
        "    d3[\"DIST_NON_EVENT\"] = d3.NONEVENT/d3.sum().NONEVENT\n",
        "    d3[\"WOE\"] = np.log(d3.DIST_EVENT/d3.DIST_NON_EVENT)\n",
        "    d3[\"IV\"] = (d3.DIST_EVENT-d3.DIST_NON_EVENT)*np.log(d3.DIST_EVENT/d3.DIST_NON_EVENT)\n",
        "    d3[\"VAR_NAME\"] = \"VAR\"\n",
        "    d3 = d3[['VAR_NAME','MIN_VALUE', 'MAX_VALUE', 'COUNT', 'EVENT', 'EVENT_RATE', 'NONEVENT', 'NON_EVENT_RATE', 'DIST_EVENT','DIST_NON_EVENT','WOE', 'IV']]       \n",
        "    d3 = d3.replace([np.inf, -np.inf], 0)\n",
        "    d3.IV = d3.IV.sum()\n",
        "    \n",
        "    return(d3)\n",
        "\n",
        "def char_bin(Y, X):\n",
        "        \n",
        "    df1 = pd.DataFrame({\"X\": X, \"Y\": Y})\n",
        "    justmiss = df1[['X','Y']][df1.X.isnull()]\n",
        "    notmiss = df1[['X','Y']][df1.X.notnull()]    \n",
        "    df2 = notmiss.groupby('X',as_index=True)\n",
        "    \n",
        "    d3 = pd.DataFrame({},index=[])\n",
        "    d3[\"COUNT\"] = df2.count().Y\n",
        "    d3[\"MIN_VALUE\"] = df2.sum().Y.index\n",
        "    d3[\"MAX_VALUE\"] = d3[\"MIN_VALUE\"]\n",
        "    d3[\"EVENT\"] = df2.sum().Y\n",
        "    d3[\"NONEVENT\"] = df2.count().Y - df2.sum().Y\n",
        "    \n",
        "    if len(justmiss.index) > 0:\n",
        "        d4 = pd.DataFrame({'MIN_VALUE':np.nan},index=[0])\n",
        "        d4[\"MAX_VALUE\"] = np.nan\n",
        "        d4[\"COUNT\"] = justmiss.count().Y\n",
        "        d4[\"EVENT\"] = justmiss.sum().Y\n",
        "        d4[\"NONEVENT\"] = justmiss.count().Y - justmiss.sum().Y\n",
        "        d3 = d3.append(d4,ignore_index=True)\n",
        "    \n",
        "    d3[\"EVENT_RATE\"] = d3.EVENT/d3.COUNT\n",
        "    d3[\"NON_EVENT_RATE\"] = d3.NONEVENT/d3.COUNT\n",
        "    d3[\"DIST_EVENT\"] = d3.EVENT/d3.sum().EVENT\n",
        "    d3[\"DIST_NON_EVENT\"] = d3.NONEVENT/d3.sum().NONEVENT\n",
        "    d3[\"WOE\"] = np.log(d3.DIST_EVENT/d3.DIST_NON_EVENT)\n",
        "    d3[\"IV\"] = (d3.DIST_EVENT-d3.DIST_NON_EVENT)*np.log(d3.DIST_EVENT/d3.DIST_NON_EVENT)\n",
        "    d3[\"VAR_NAME\"] = \"VAR\"\n",
        "    d3 = d3[['VAR_NAME','MIN_VALUE', 'MAX_VALUE', 'COUNT', 'EVENT', 'EVENT_RATE', 'NONEVENT', 'NON_EVENT_RATE', 'DIST_EVENT','DIST_NON_EVENT','WOE', 'IV']]      \n",
        "    d3 = d3.replace([np.inf, -np.inf], 0)\n",
        "    d3.IV = d3.IV.sum()\n",
        "    d3 = d3.reset_index(drop=True)\n",
        "    \n",
        "    return(d3)\n",
        "\n",
        "def data_vars(df1, target):\n",
        "    \n",
        "    stack = traceback.extract_stack()\n",
        "    filename, lineno, function_name, code = stack[-2]\n",
        "    vars_name = re.compile(r'\\((.*?)\\).*$').search(code).groups()[0]\n",
        "    final = (re.findall(r\"[\\w']+\", vars_name))[-1]\n",
        "    \n",
        "    x = df1.dtypes.index\n",
        "    count = -1\n",
        "    \n",
        "    for i in x:\n",
        "        if i.upper() not in (final.upper()):\n",
        "            if np.issubdtype(df1[i], np.number) and len(Series.unique(df1[i])) > 2:\n",
        "                conv = mono_bin(target, df1[i])\n",
        "                conv[\"VAR_NAME\"] = i\n",
        "                count = count + 1\n",
        "            else:\n",
        "                conv = char_bin(target, df1[i])\n",
        "                conv[\"VAR_NAME\"] = i            \n",
        "                count = count + 1\n",
        "                \n",
        "            if count == 0:\n",
        "                iv_df = conv\n",
        "            else:\n",
        "                iv_df = iv_df.append(conv,ignore_index=True)\n",
        "    \n",
        "    iv = pd.DataFrame({'IV':iv_df.groupby('VAR_NAME').IV.max()})\n",
        "    iv = iv.reset_index()\n",
        "    return(iv_df,iv)"
      ],
      "execution_count": null,
      "outputs": []
    },
    {
      "cell_type": "code",
      "metadata": {
        "id": "FLeY_C6_seDu",
        "colab_type": "code",
        "colab": {
          "base_uri": "https://localhost:8080/",
          "height": 74
        },
        "outputId": "10966416-47a4-4e69-ac37-6290c7735ff8"
      },
      "source": [
        "final_iv, IV = data_vars(X_train, y_train)"
      ],
      "execution_count": null,
      "outputs": [
        {
          "output_type": "stream",
          "text": [
            "/usr/local/lib/python3.6/dist-packages/pandas/core/series.py:679: RuntimeWarning: divide by zero encountered in log\n",
            "  result = getattr(ufunc, method)(*inputs, **kwargs)\n"
          ],
          "name": "stderr"
        }
      ]
    },
    {
      "cell_type": "code",
      "metadata": {
        "id": "MPOnls7_sgZC",
        "colab_type": "code",
        "colab": {}
      },
      "source": [
        "features = list(IV[(IV['IV'] >= 0.01) & (IV['IV'] <= 0.8)]['VAR_NAME'])\n",
        "X2 = X_train[features]"
      ],
      "execution_count": null,
      "outputs": []
    },
    {
      "cell_type": "code",
      "metadata": {
        "id": "lCF9mOyFGs8L",
        "colab_type": "code",
        "colab": {
          "base_uri": "https://localhost:8080/",
          "height": 35
        },
        "outputId": "13711f43-5a62-416a-aa9e-61b82286a406"
      },
      "source": [
        "X2.shape"
      ],
      "execution_count": null,
      "outputs": [
        {
          "output_type": "execute_result",
          "data": {
            "text/plain": [
              "(200000, 27)"
            ]
          },
          "metadata": {
            "tags": []
          },
          "execution_count": 49
        }
      ]
    },
    {
      "cell_type": "code",
      "metadata": {
        "id": "tsigSCUHv72h",
        "colab_type": "code",
        "colab": {
          "base_uri": "https://localhost:8080/",
          "height": 401
        },
        "outputId": "86708531-6a55-4046-f999-36ae7c12589c"
      },
      "source": [
        "def iterate_vif(df, vif_threshold=5, max_vif=6):\n",
        "  count = 0\n",
        "  while max_vif > vif_threshold:\n",
        "    count += 1\n",
        "    print(\"Iteration # \"+str(count))\n",
        "    vif = pd.DataFrame()\n",
        "    vif[\"VIFactor\"] = [variance_inflation_factor(df.values, i) for i in range(df.shape[1])]\n",
        "    vif[\"features\"] = df.columns\n",
        "    \n",
        "    if vif['VIFactor'].max() > vif_threshold:\n",
        "      print('Removing %s with VIF of %f' % (vif[vif['VIFactor'] == vif['VIFactor'].max()]['features'].values[0], vif['VIFactor'].max()))\n",
        "      df = df.drop(vif[vif['VIFactor'] == vif['VIFactor'].max()]['features'].values[0], axis=1)\n",
        "      max_vif = vif['VIFactor'].max()\n",
        "    else:\n",
        "        print('Complete')\n",
        "        return df, vif.sort_values('VIFactor')\n",
        " \n",
        "final_df, final_vif = iterate_vif(X2)"
      ],
      "execution_count": null,
      "outputs": [
        {
          "output_type": "stream",
          "text": [
            "Iteration # 1\n"
          ],
          "name": "stdout"
        },
        {
          "output_type": "stream",
          "text": [
            "/usr/local/lib/python3.6/dist-packages/statsmodels/stats/outliers_influence.py:185: RuntimeWarning: divide by zero encountered in double_scalars\n",
            "  vif = 1. / (1. - r_squared_i)\n"
          ],
          "name": "stderr"
        },
        {
          "output_type": "stream",
          "text": [
            "Removing Census_OSArchitecture_amd64 with VIF of inf\n",
            "Iteration # 2\n",
            "Removing Processor_x64 with VIF of 74.859053\n",
            "Iteration # 3\n",
            "Removing SmartScreen_existsnotset with VIF of 61.418731\n",
            "Iteration # 4\n",
            "Removing Processor_x86 with VIF of 57.281494\n",
            "Iteration # 5\n",
            "Removing AVProductsEnabled with VIF of 34.508172\n",
            "Iteration # 6\n",
            "Removing AVProductsInstalled with VIF of 21.370763\n",
            "Iteration # 7\n",
            "Removing IsProtected with VIF of 9.694294\n",
            "Iteration # 8\n",
            "Removing Census_PowerPlatformRoleName_slate with VIF of 6.723769\n",
            "Iteration # 9\n",
            "Complete\n"
          ],
          "name": "stdout"
        }
      ]
    },
    {
      "cell_type": "code",
      "metadata": {
        "id": "IxO7J1NFv90T",
        "colab_type": "code",
        "colab": {
          "base_uri": "https://localhost:8080/",
          "height": 381
        },
        "outputId": "de06170c-b694-4397-feca-83afb8280eb7"
      },
      "source": [
        "X1 = X2._get_numeric_data()\n",
        "X_train, final_vif = iterate_vif(X1)"
      ],
      "execution_count": null,
      "outputs": [
        {
          "output_type": "stream",
          "text": [
            "Iteration # 1\n"
          ],
          "name": "stdout"
        },
        {
          "output_type": "stream",
          "text": [
            "/usr/local/lib/python3.6/dist-packages/statsmodels/stats/outliers_influence.py:185: RuntimeWarning: divide by zero encountered in double_scalars\n",
            "  vif = 1. / (1. - r_squared_i)\n"
          ],
          "name": "stderr"
        },
        {
          "output_type": "stream",
          "text": [
            "Removing Census_OSArchitecture_amd64 with VIF of inf\n",
            "Iteration # 2\n",
            "Removing Processor_x64 with VIF of 74.859053\n",
            "Iteration # 3\n",
            "Removing SmartScreen_existsnotset with VIF of 61.418731\n",
            "Iteration # 4\n",
            "Removing Processor_x86 with VIF of 57.281494\n",
            "Iteration # 5\n",
            "Removing AVProductsEnabled with VIF of 34.508172\n",
            "Iteration # 6\n",
            "Removing AVProductsInstalled with VIF of 21.370763\n",
            "Iteration # 7\n",
            "Removing IsProtected with VIF of 9.694294\n",
            "Iteration # 8\n",
            "Removing Census_PowerPlatformRoleName_slate with VIF of 6.723769\n",
            "Iteration # 9\n",
            "Complete\n"
          ],
          "name": "stdout"
        }
      ]
    },
    {
      "cell_type": "code",
      "metadata": {
        "id": "l3qGs_pCww9p",
        "colab_type": "code",
        "colab": {
          "base_uri": "https://localhost:8080/",
          "height": 35
        },
        "outputId": "d158ed80-7b7b-403c-e41b-2b407189e5e5"
      },
      "source": [
        "X_train.shape"
      ],
      "execution_count": null,
      "outputs": [
        {
          "output_type": "execute_result",
          "data": {
            "text/plain": [
              "(200000, 19)"
            ]
          },
          "metadata": {
            "tags": []
          },
          "execution_count": 54
        }
      ]
    },
    {
      "cell_type": "code",
      "metadata": {
        "id": "yz3WOCqRxGPA",
        "colab_type": "code",
        "colab": {
          "base_uri": "https://localhost:8080/",
          "height": 34
        },
        "outputId": "f2220406-35e1-4c92-8207-902a2bfe96a2"
      },
      "source": [
        "X_test=test[X_train.columns]\n",
        "X_test.shape"
      ],
      "execution_count": null,
      "outputs": [
        {
          "output_type": "execute_result",
          "data": {
            "text/plain": [
              "(7853253, 12)"
            ]
          },
          "metadata": {
            "tags": []
          },
          "execution_count": 19
        }
      ]
    },
    {
      "cell_type": "code",
      "metadata": {
        "id": "NREREnrEqgwd",
        "colab_type": "code",
        "colab": {}
      },
      "source": [
        "X_train.to_csv('/content/drive/My Drive/label_encoding/X_train_onehotencoding.csv', index = False)\n",
        "y_train.to_csv('/content/drive/My Drive/label_encoding/y_train_onehotencoding.csv', index = False)\n",
        "#X_test.to_csv('//content/drive/My Drive/label_encoding/X_test.csv', index = False)"
      ],
      "execution_count": null,
      "outputs": []
    },
    {
      "cell_type": "code",
      "metadata": {
        "id": "Z2IIwsIJpnFY",
        "colab_type": "code",
        "colab": {
          "base_uri": "https://localhost:8080/",
          "height": 254
        },
        "outputId": "f6361fe9-6253-43fb-cae0-38015c4969a8"
      },
      "source": [
        "X_train.columns"
      ],
      "execution_count": null,
      "outputs": [
        {
          "output_type": "execute_result",
          "data": {
            "text/plain": [
              "Index(['AVProductStatesIdentifier', 'AppVersion',\n",
              "       'Census_IsAlwaysOnAlwaysConnectedCapable', 'Census_IsVirtualDevice',\n",
              "       'Census_MDC2FormFactor_tablet', 'Census_OSArchitecture_x86',\n",
              "       'Census_OSVersion', 'Census_TotalPhysicalRAM', 'EngineVersion',\n",
              "       'OsBuildLab', 'ProcessorCoreCount_DisplaySizeInInches',\n",
              "       'SmartScreen_AVProductsInstalled_existsnotset1.0',\n",
              "       'SmartScreen_AVProductsInstalled_existsnotset2.0',\n",
              "       'SmartScreen_AVProductsInstalled_requireadmin2.0',\n",
              "       'SmartScreen_AVProductsInstalled_requireadmin3.0',\n",
              "       'SmartScreen_AVProductsInstalled_unknown2.0',\n",
              "       'SmartScreen_requireadmin', 'Wdft_IsGamer',\n",
              "       'monitor_dims_1280.0*800.0'],\n",
              "      dtype='object')"
            ]
          },
          "metadata": {
            "tags": []
          },
          "execution_count": 56
        }
      ]
    },
    {
      "cell_type": "code",
      "metadata": {
        "id": "LwVnY0LUVd-B",
        "colab_type": "code",
        "colab": {}
      },
      "source": [
        ""
      ],
      "execution_count": null,
      "outputs": []
    }
  ]
}