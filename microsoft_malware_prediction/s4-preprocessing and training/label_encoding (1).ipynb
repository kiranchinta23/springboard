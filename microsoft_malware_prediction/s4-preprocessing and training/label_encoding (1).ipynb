{
  "nbformat": 4,
  "nbformat_minor": 0,
  "metadata": {
    "colab": {
      "name": "label_encoding.ipynb",
      "provenance": [],
      "machine_shape": "hm"
    },
    "kernelspec": {
      "name": "python3",
      "display_name": "Python 3"
    },
    "accelerator": "GPU"
  },
  "cells": [
    {
      "cell_type": "markdown",
      "metadata": {
        "id": "61V76IHTksAt",
        "colab_type": "text"
      },
      "source": [
        "# ***Data Encoding***\n",
        "Not all machine learning methods can handle all sorts of features (expicitly the categorical features). Therefor features are encoded to ensure a smooth processing. This file encode train and test data.\n",
        "\n",
        "In the following features are encoded by one of two methods:\n",
        "\n",
        "Label_Encoding: Label Encoding transform values to become numbers between  0  and  𝑛−1 , where  𝑛  is the number of different labels Frequency_Encoding: Frequency Encoding is a special case of Label Encoding. Feature values are encoded based on there frequency. Transformed values are numbers between  0  and  𝑚 , where  𝑚  is the number of values with a frequency greater or equal than 2. The resulting encoded data is stored under ../data/train_endcoding.csv and ../data/test_encoding.csv."
      ]
    },
    {
      "cell_type": "markdown",
      "metadata": {
        "id": "rf-ZfA8MUTmC",
        "colab_type": "text"
      },
      "source": [
        "# **import libararies**"
      ]
    },
    {
      "cell_type": "code",
      "metadata": {
        "id": "-jk-YveMKnwr",
        "colab_type": "code",
        "colab": {
          "base_uri": "https://localhost:8080/",
          "height": 374
        },
        "outputId": "2bedc208-6ff7-40f8-cf6f-6fbe6d315f68"
      },
      "source": [
        "import pandas as pd\n",
        "import numpy as np\n",
        "%pip install dask[dataframe]\n",
        "import dask.dataframe as dd\n",
        "from sklearn import preprocessing\n",
        "from tqdm import tqdm\n",
        "import gc\n",
        "import sys\n",
        "import pickle\n",
        "import warnings\n",
        "from sklearn.model_selection import train_test_split, cross_val_score, GridSearchCV\n",
        "from sklearn.pipeline import Pipeline\n",
        "from sklearn.metrics import classification_report\n",
        "from sklearn.linear_model import LogisticRegression\n",
        "import pandas.core.algorithms as algos\n",
        "from pandas import Series\n",
        "import scipy.stats.stats as stats\n",
        "import re\n",
        "import traceback\n",
        "import string\n",
        "if not sys.warnoptions:\n",
        "    warnings.simplefilter(\"ignore\")"
      ],
      "execution_count": 2,
      "outputs": [
        {
          "output_type": "stream",
          "text": [
            "Requirement already satisfied: dask[dataframe] in /usr/local/lib/python3.6/dist-packages (2.12.0)\n",
            "Collecting partd>=0.3.10; extra == \"dataframe\"\n",
            "  Downloading https://files.pythonhosted.org/packages/44/e1/68dbe731c9c067655bff1eca5b7d40c20ca4b23fd5ec9f3d17e201a6f36b/partd-1.1.0-py3-none-any.whl\n",
            "Requirement already satisfied: pandas>=0.23.0; extra == \"dataframe\" in /usr/local/lib/python3.6/dist-packages (from dask[dataframe]) (1.0.5)\n",
            "Requirement already satisfied: toolz>=0.7.3; extra == \"dataframe\" in /usr/local/lib/python3.6/dist-packages (from dask[dataframe]) (0.10.0)\n",
            "Collecting fsspec>=0.6.0; extra == \"dataframe\"\n",
            "\u001b[?25l  Downloading https://files.pythonhosted.org/packages/d3/66/974e01194980d9780cc09724315111f9cccba26b4351552fdb4d97eb842e/fsspec-0.8.0-py3-none-any.whl (85kB)\n",
            "\u001b[K     |████████████████████████████████| 92kB 5.1MB/s \n",
            "\u001b[?25hRequirement already satisfied: numpy>=1.13.0; extra == \"dataframe\" in /usr/local/lib/python3.6/dist-packages (from dask[dataframe]) (1.18.5)\n",
            "Collecting locket\n",
            "  Downloading https://files.pythonhosted.org/packages/d0/22/3c0f97614e0be8386542facb3a7dcfc2584f7b83608c02333bced641281c/locket-0.2.0.tar.gz\n",
            "Requirement already satisfied: pytz>=2017.2 in /usr/local/lib/python3.6/dist-packages (from pandas>=0.23.0; extra == \"dataframe\"->dask[dataframe]) (2018.9)\n",
            "Requirement already satisfied: python-dateutil>=2.6.1 in /usr/local/lib/python3.6/dist-packages (from pandas>=0.23.0; extra == \"dataframe\"->dask[dataframe]) (2.8.1)\n",
            "Requirement already satisfied: six>=1.5 in /usr/local/lib/python3.6/dist-packages (from python-dateutil>=2.6.1->pandas>=0.23.0; extra == \"dataframe\"->dask[dataframe]) (1.15.0)\n",
            "Building wheels for collected packages: locket\n",
            "  Building wheel for locket (setup.py) ... \u001b[?25l\u001b[?25hdone\n",
            "  Created wheel for locket: filename=locket-0.2.0-cp36-none-any.whl size=4040 sha256=7b48aae45735acd67b22df8ac7474f20364488355e3d40175cef1115d20ff1d9\n",
            "  Stored in directory: /root/.cache/pip/wheels/26/1e/e8/4fa236ec931b1a0cdd61578e20d4934d7bf188858723b84698\n",
            "Successfully built locket\n",
            "Installing collected packages: locket, partd, fsspec\n",
            "Successfully installed fsspec-0.8.0 locket-0.2.0 partd-1.1.0\n"
          ],
          "name": "stdout"
        }
      ]
    },
    {
      "cell_type": "code",
      "metadata": {
        "id": "9hqWtYWPUZvU",
        "colab_type": "code",
        "colab": {}
      },
      "source": [
        "dtypes = {\n",
        "        'MachineIdentifier':                                    'category',\n",
        "        'ProductName':                                          'category',\n",
        "        'EngineVersion':                                        'category',\n",
        "        'AppVersion':                                           'category',\n",
        "        'AvSigVersion':                                         'category',\n",
        "        'IsBeta':                                               'int8',\n",
        "        'RtpStateBitfield':                                     'float16',\n",
        "        'IsSxsPassiveMode':                                     'int8',\n",
        "        'DefaultBrowsersIdentifier':                            'float16',\n",
        "        'AVProductStatesIdentifier':                            'float32',\n",
        "        'AVProductsInstalled':                                  'float16',\n",
        "        'AVProductsEnabled':                                    'float16',\n",
        "        'HasTpm':                                               'int8',\n",
        "        'CountryIdentifier':                                    'int16',\n",
        "        'CityIdentifier':                                       'float32',\n",
        "        'OrganizationIdentifier':                               'float16',\n",
        "        'GeoNameIdentifier':                                    'float16',\n",
        "        'LocaleEnglishNameIdentifier':                          'int8',\n",
        "        'Platform':                                             'category',\n",
        "        'Processor':                                            'category',\n",
        "        'OsVer':                                                'category',\n",
        "        'OsBuild':                                              'int16',\n",
        "        'OsSuite':                                              'int16',\n",
        "        'OsPlatformSubRelease':                                 'category',\n",
        "        'OsBuildLab':                                           'category',\n",
        "        'SkuEdition':                                           'category',\n",
        "        'IsProtected':                                          'float16',\n",
        "        'AutoSampleOptIn':                                      'int8',\n",
        "        'PuaMode':                                              'category',\n",
        "        'SMode':                                                'float16',\n",
        "        'IeVerIdentifier':                                      'float16',\n",
        "        'SmartScreen':                                          'category',\n",
        "        'Firewall':                                             'float16',\n",
        "        'UacLuaenable':                                         'float32',\n",
        "        'Census_MDC2FormFactor':                                'category',\n",
        "        'Census_DeviceFamily':                                  'category',\n",
        "        'Census_OEMNameIdentifier':                             'float16',\n",
        "        'Census_OEMModelIdentifier':                            'float32',\n",
        "        'Census_ProcessorCoreCount':                            'float16',\n",
        "        'Census_ProcessorManufacturerIdentifier':               'float16',\n",
        "        'Census_ProcessorModelIdentifier':                      'float16',\n",
        "        'Census_ProcessorClass':                                'category',\n",
        "        'Census_PrimaryDiskTotalCapacity':                      'float32',\n",
        "        'Census_PrimaryDiskTypeName':                           'category',\n",
        "        'Census_SystemVolumeTotalCapacity':                     'float32',\n",
        "        'Census_HasOpticalDiskDrive':                           'int8',\n",
        "        'Census_TotalPhysicalRAM':                              'float32',\n",
        "        'Census_ChassisTypeName':                               'category',\n",
        "        'Census_InternalPrimaryDiagonalDisplaySizeInInches':    'float16',\n",
        "        'Census_InternalPrimaryDisplayResolutionHorizontal':    'float16',\n",
        "        'Census_InternalPrimaryDisplayResolutionVertical':      'float16',\n",
        "        'Census_PowerPlatformRoleName':                         'category',\n",
        "        'Census_InternalBatteryType':                           'category',\n",
        "        'Census_InternalBatteryNumberOfCharges':                'float32',\n",
        "        'Census_OSVersion':                                     'category',\n",
        "        'Census_OSArchitecture':                                'category',\n",
        "        'Census_OSBranch':                                      'category',\n",
        "        'Census_OSBuildNumber':                                 'int16',\n",
        "        'Census_OSBuildRevision':                               'int32',\n",
        "        'Census_OSEdition':                                     'category',\n",
        "        'Census_OSSkuName':                                     'category',\n",
        "        'Census_OSInstallTypeName':                             'category',\n",
        "        'Census_OSInstallLanguageIdentifier':                   'float16',\n",
        "        'Census_OSUILocaleIdentifier':                          'int16',\n",
        "        'Census_OSWUAutoUpdateOptionsName':                     'category',\n",
        "        'Census_IsPortableOperatingSystem':                     'int8',\n",
        "        'Census_GenuineStateName':                              'category',\n",
        "        'Census_ActivationChannel':                             'category',\n",
        "        'Census_IsFlightingInternal':                           'float16',\n",
        "        'Census_IsFlightsDisabled':                             'float16',\n",
        "        'Census_FlightRing':                                    'category',\n",
        "        'Census_ThresholdOptIn':                                'float16',\n",
        "        'Census_FirmwareManufacturerIdentifier':                'float16',\n",
        "        'Census_FirmwareVersionIdentifier':                     'float32',\n",
        "        'Census_IsSecureBootEnabled':                           'int8',\n",
        "        'Census_IsWIMBootEnabled':                              'float16',\n",
        "        'Census_IsVirtualDevice':                               'float16',\n",
        "        'Census_IsTouchEnabled':                                'int8',\n",
        "        'Census_IsPenCapable':                                  'int8',\n",
        "        'Census_IsAlwaysOnAlwaysConnectedCapable':              'float16',\n",
        "        'Wdft_IsGamer':                                         'float16',\n",
        "        'Wdft_RegionIdentifier':                                'float16',\n",
        "        'HasDetections':                                        'int8'\n",
        "        }"
      ],
      "execution_count": 6,
      "outputs": []
    },
    {
      "cell_type": "code",
      "metadata": {
        "id": "KCF1TiJwUdej",
        "colab_type": "code",
        "colab": {}
      },
      "source": [
        "def convert_types(df):\n",
        "    # Convert data types to reduce memory\n",
        "    for c in df:\n",
        "        col_type = str(df[c].dtypes)\n",
        "        numerics = ['int16', 'int32', 'int64', 'float16', 'float32', 'float64']\n",
        "        \n",
        "        # Convert objects to category\n",
        "        if col_type == 'object':\n",
        "            df[c] = df[c].astype('category')\n",
        "        \n",
        "        # numerics\n",
        "        elif col_type in numerics:\n",
        "            c_min = df[c].min()\n",
        "            c_max = df[c].max()\n",
        "            if col_type[:3] == 'int':\n",
        "                if c_min > np.iinfo(np.int8).min and c_max < np.iinfo(np.int8).max:\n",
        "                    df[c] = df[c].astype(np.int8)\n",
        "                elif c_min > np.iinfo(np.int16).min and c_max < np.iinfo(np.int16).max:\n",
        "                    df[c] = df[c].astype(np.int16)\n",
        "                elif c_min > np.iinfo(np.int32).min and c_max < np.iinfo(np.int32).max:\n",
        "                    df[c] = df[c].astype(np.int32)\n",
        "                elif c_min > np.iinfo(np.int64).min and c_max < np.iinfo(np.int64).max:\n",
        "                    df[c] = df[c].astype(np.int64)  \n",
        "            else:\n",
        "                if c_min > np.finfo(np.float16).min and c_max < np.finfo(np.float16).max:\n",
        "                    df[c] = df[c].astype(np.float16)\n",
        "                elif c_min > np.finfo(np.float32).min and c_max < np.finfo(np.float32).max:\n",
        "                    df[c] = df[c].astype(np.float32)\n",
        "                else:\n",
        "                    df[c] = df[c].astype(np.float64)  \n",
        "        \n",
        "    return df"
      ],
      "execution_count": null,
      "outputs": []
    },
    {
      "cell_type": "markdown",
      "metadata": {
        "id": "TIgNbUu4UhVL",
        "colab_type": "text"
      },
      "source": [
        "## ***import data***"
      ]
    },
    {
      "cell_type": "code",
      "metadata": {
        "id": "cIrF2q2LUgUU",
        "colab_type": "code",
        "colab": {}
      },
      "source": [
        "# target column\n",
        "target = 'HasDetections'\n",
        "# id from data set\n",
        "data_id = 'MachineIdentifier'"
      ],
      "execution_count": null,
      "outputs": []
    },
    {
      "cell_type": "code",
      "metadata": {
        "id": "UhZ0cfArUmJ0",
        "colab_type": "code",
        "colab": {}
      },
      "source": [
        "# load train data set\n",
        "# use dask to load faster\n",
        "file = '/content/drive/My Drive/microsoft/train_featureengineering.csv'\n",
        "ddf = dd.read_csv(file, dtype = dtypes)\n",
        "train = ddf.compute()"
      ],
      "execution_count": null,
      "outputs": []
    },
    {
      "cell_type": "code",
      "metadata": {
        "id": "Fayd_eEoVFWD",
        "colab_type": "code",
        "colab": {}
      },
      "source": [
        " train.shape"
      ],
      "execution_count": null,
      "outputs": []
    },
    {
      "cell_type": "code",
      "metadata": {
        "id": "kXhXSK4aWAyP",
        "colab_type": "code",
        "colab": {}
      },
      "source": [
        "train = convert_types(train)"
      ],
      "execution_count": null,
      "outputs": []
    },
    {
      "cell_type": "code",
      "metadata": {
        "id": "HGFpJu6FWJq1",
        "colab_type": "code",
        "colab": {}
      },
      "source": [
        "# load test data set\n",
        "# use dask to load faster\n",
        "file = '/content/drive/My Drive/microsoft/test_featureengineering.csv'\n",
        "ddf = dd.read_csv(file,dtype=dtypes)\n",
        "test = ddf.compute()"
      ],
      "execution_count": null,
      "outputs": []
    },
    {
      "cell_type": "code",
      "metadata": {
        "id": "8iuoQYoIWLwP",
        "colab_type": "code",
        "colab": {}
      },
      "source": [
        "test.shape"
      ],
      "execution_count": null,
      "outputs": []
    },
    {
      "cell_type": "code",
      "metadata": {
        "id": "mKLNK8KdWNTv",
        "colab_type": "code",
        "colab": {}
      },
      "source": [
        "test['HasDetections']=np.nan"
      ],
      "execution_count": null,
      "outputs": []
    },
    {
      "cell_type": "code",
      "metadata": {
        "id": "AC55mOf4W2zN",
        "colab_type": "code",
        "colab": {}
      },
      "source": [
        "test['Census_ChassisTypeName'] = test['Census_ChassisTypeName'].fillna('unknown')"
      ],
      "execution_count": null,
      "outputs": []
    },
    {
      "cell_type": "code",
      "metadata": {
        "id": "THb51slEWPJ6",
        "colab_type": "code",
        "colab": {}
      },
      "source": [
        "test.shape"
      ],
      "execution_count": null,
      "outputs": []
    },
    {
      "cell_type": "code",
      "metadata": {
        "id": "EzHTR4OjWQ_r",
        "colab_type": "code",
        "colab": {}
      },
      "source": [
        "test=convert_types(test)"
      ],
      "execution_count": null,
      "outputs": []
    },
    {
      "cell_type": "code",
      "metadata": {
        "id": "seoi_94ZWjKh",
        "colab_type": "code",
        "colab": {}
      },
      "source": [
        "# Combine train- and test-data\n",
        "frames = [train, test]\n",
        "df = pd.concat(frames)\n",
        "df.shape"
      ],
      "execution_count": null,
      "outputs": []
    },
    {
      "cell_type": "code",
      "metadata": {
        "id": "vLCSHVb-Wj6A",
        "colab_type": "code",
        "colab": {
          "base_uri": "https://localhost:8080/",
          "height": 34
        },
        "outputId": "f4ea1b0a-8123-4c3d-ff38-97f0e1c48d21"
      },
      "source": [
        "# Optimize the memory\n",
        "gc.enable()\n",
        "del test, train\n",
        "gc.collect()"
      ],
      "execution_count": null,
      "outputs": [
        {
          "output_type": "execute_result",
          "data": {
            "text/plain": [
              "0"
            ]
          },
          "metadata": {
            "tags": []
          },
          "execution_count": 49
        }
      ]
    },
    {
      "cell_type": "code",
      "metadata": {
        "id": "fE4ARDF1Wlhl",
        "colab_type": "code",
        "colab": {}
      },
      "source": [
        "df = convert_types(df)"
      ],
      "execution_count": null,
      "outputs": []
    },
    {
      "cell_type": "code",
      "metadata": {
        "id": "8Ty5cvQwWnn6",
        "colab_type": "code",
        "colab": {
          "base_uri": "https://localhost:8080/",
          "height": 34
        },
        "outputId": "72b73a11-d88f-4a16-cfd9-3890455c4409"
      },
      "source": [
        "df.shape"
      ],
      "execution_count": null,
      "outputs": [
        {
          "output_type": "execute_result",
          "data": {
            "text/plain": [
              "(16774736, 78)"
            ]
          },
          "metadata": {
            "tags": []
          },
          "execution_count": 51
        }
      ]
    },
    {
      "cell_type": "markdown",
      "metadata": {
        "id": "Tf3vxqXslNzQ",
        "colab_type": "text"
      },
      "source": [
        "# **Data Encoding**"
      ]
    },
    {
      "cell_type": "code",
      "metadata": {
        "id": "s5Bq5nGsWpHH",
        "colab_type": "code",
        "colab": {}
      },
      "source": [
        "list_frequency_encoding = ['AppVersion',\n",
        " 'AvSigVersion',\n",
        " 'Census_OSVersion',\n",
        " 'EngineVersion',\n",
        " 'OsBuildLab']"
      ],
      "execution_count": null,
      "outputs": []
    },
    {
      "cell_type": "code",
      "metadata": {
        "id": "J0vqoiFKJ5mS",
        "colab_type": "code",
        "colab": {}
      },
      "source": [
        "correct_feature_by_hand = ['AppVersion',\n",
        " 'AvSigVersion',\n",
        " 'Census_ActivationChannel',\n",
        " 'Census_ChassisTypeName',\n",
        " 'Census_DeviceFamily',\n",
        " 'Census_FlightRing',\n",
        " 'Census_GenuineStateName',\n",
        " 'Census_MDC2FormFactor',\n",
        " 'Census_OSArchitecture',\n",
        " 'Census_OSBranch',\n",
        " 'Census_OSEdition',\n",
        " 'Census_OSInstallTypeName',\n",
        " 'Census_OSSkuName',\n",
        " 'Census_OSVersion',\n",
        " 'Census_OSWUAutoUpdateOptionsName',\n",
        " 'Census_PowerPlatformRoleName',\n",
        " 'Census_PrimaryDiskTypeName',\n",
        " 'EngineVersion',\n",
        " 'MachineIdentifier',\n",
        " 'OsBuildLab',\n",
        " 'OsPlatformSubRelease',\n",
        " 'OsVer',\n",
        " 'Platform',\n",
        " 'Processor',\n",
        " 'SkuEdition',\n",
        " 'SmartScreen']"
      ],
      "execution_count": null,
      "outputs": []
    },
    {
      "cell_type": "code",
      "metadata": {
        "id": "j4iB2aZqJ7QU",
        "colab_type": "code",
        "colab": {}
      },
      "source": [
        "\n",
        "# new features from feature engineering\n",
        "new_features_labelencode = ['monitor_dims', 'SmartScreen_AVProductsInstalled']"
      ],
      "execution_count": null,
      "outputs": []
    },
    {
      "cell_type": "code",
      "metadata": {
        "id": "HvI_8x_oJ9eu",
        "colab_type": "code",
        "colab": {}
      },
      "source": [
        "list_label_encoding = list(set(correct_feature_by_hand)-set(list_frequency_encoding))\n",
        "list_label_encoding.remove(data_id)\n",
        "list_label_encoding.extend(new_features_labelencode)"
      ],
      "execution_count": null,
      "outputs": []
    },
    {
      "cell_type": "code",
      "metadata": {
        "id": "nWzTUuiJRTGP",
        "colab_type": "code",
        "colab": {
          "base_uri": "https://localhost:8080/",
          "height": 391
        },
        "outputId": "d245b5c4-d51c-4859-ecd3-489c8a5d72ba"
      },
      "source": [
        "list_label_encoding"
      ],
      "execution_count": null,
      "outputs": [
        {
          "output_type": "execute_result",
          "data": {
            "text/plain": [
              "['OsVer',\n",
              " 'Census_GenuineStateName',\n",
              " 'Census_ChassisTypeName',\n",
              " 'SmartScreen',\n",
              " 'Census_OSInstallTypeName',\n",
              " 'Census_OSEdition',\n",
              " 'Census_MDC2FormFactor',\n",
              " 'Census_FlightRing',\n",
              " 'Census_OSWUAutoUpdateOptionsName',\n",
              " 'OsPlatformSubRelease',\n",
              " 'Census_PowerPlatformRoleName',\n",
              " 'Census_OSArchitecture',\n",
              " 'Census_DeviceFamily',\n",
              " 'Census_OSBranch',\n",
              " 'Census_OSSkuName',\n",
              " 'Census_PrimaryDiskTypeName',\n",
              " 'Census_ActivationChannel',\n",
              " 'Platform',\n",
              " 'Processor',\n",
              " 'SkuEdition',\n",
              " 'monitor_dims',\n",
              " 'SmartScreen_AVProductsInstalled']"
            ]
          },
          "metadata": {
            "tags": []
          },
          "execution_count": 56
        }
      ]
    },
    {
      "cell_type": "code",
      "metadata": {
        "id": "K2mKh4rRJ_pX",
        "colab_type": "code",
        "colab": {}
      },
      "source": [
        "def frequency_encoding(feature):\n",
        "    # Count the number of values of each feature and reset the indices\n",
        "    t = df[feature].value_counts().reset_index()\n",
        "    # Building up a new index (old index is set by default to 'level_0')\n",
        "    t = t.reset_index()\n",
        "    # Set the old index 'level_0' for all values, which only occur once, to NaN\n",
        "    t.loc[t[feature] == 1, 'level_0'] = np.nan\n",
        "    # Reset the original index (= the value name) as index\n",
        "    t.set_index('index', inplace=True)\n",
        "    # return the number of values , which occur two or more times, +1\n",
        "    max_label = t['level_0'].max() + 1\n",
        "    # fill all nan-values to max_label\n",
        "    t.fillna(max_label, inplace=True)\n",
        "    return t.to_dict()['level_0']"
      ],
      "execution_count": null,
      "outputs": []
    },
    {
      "cell_type": "code",
      "metadata": {
        "id": "glPEXMCyKBuP",
        "colab_type": "code",
        "colab": {}
      },
      "source": [
        "# Creating a dictionary for storing the encoder\n",
        "enc_dict = dict();"
      ],
      "execution_count": null,
      "outputs": []
    },
    {
      "cell_type": "code",
      "metadata": {
        "id": "Mz376dMJKEjo",
        "colab_type": "code",
        "colab": {
          "base_uri": "https://localhost:8080/",
          "height": 34
        },
        "outputId": "d6329466-9eaa-4c7a-f3ea-d8a631beac2c"
      },
      "source": [
        "# Encode all the features in 'list_frequency_encoding'\n",
        "for feature in tqdm(list_frequency_encoding):\n",
        "    freq_enc_dict = frequency_encoding(feature)\n",
        "    df[feature] = df[feature].map(lambda x: freq_enc_dict.get(x, np.nan))\n",
        "    df[feature] = df[feature].astype('int64')    \n",
        "    # Save the freq_enc_dict\n",
        "    enc_dict[feature] = freq_enc_dict"
      ],
      "execution_count": null,
      "outputs": [
        {
          "output_type": "stream",
          "text": [
            "100%|██████████| 5/5 [00:01<00:00,  2.54it/s]\n"
          ],
          "name": "stderr"
        }
      ]
    },
    {
      "cell_type": "code",
      "metadata": {
        "id": "fRoag5W5KIkY",
        "colab_type": "code",
        "colab": {
          "base_uri": "https://localhost:8080/",
          "height": 408
        },
        "outputId": "d902c179-41e1-4718-c2ca-cbac9752a926"
      },
      "source": [
        "for feature in tqdm(list_label_encoding):\n",
        "    print(feature)\n",
        "    le = preprocessing.LabelEncoder()\n",
        "    df[feature] = le.fit_transform(df[feature])\n",
        "    df[feature] = df[feature].astype('int64') \n",
        "    # Save the freq_enc_dict\n",
        "    enc_dict[feature] = le"
      ],
      "execution_count": null,
      "outputs": [
        {
          "output_type": "stream",
          "text": [
            "\r  0%|          | 0/22 [00:00<?, ?it/s]"
          ],
          "name": "stderr"
        },
        {
          "output_type": "stream",
          "text": [
            "OsVer\n"
          ],
          "name": "stdout"
        },
        {
          "output_type": "stream",
          "text": [
            "\r  5%|▍         | 1/22 [00:02<01:02,  2.98s/it]"
          ],
          "name": "stderr"
        },
        {
          "output_type": "stream",
          "text": [
            "Census_GenuineStateName\n"
          ],
          "name": "stdout"
        },
        {
          "output_type": "stream",
          "text": [
            "\r  9%|▉         | 2/22 [00:05<00:59,  2.98s/it]"
          ],
          "name": "stderr"
        },
        {
          "output_type": "stream",
          "text": [
            "Census_ChassisTypeName\n"
          ],
          "name": "stdout"
        },
        {
          "output_type": "stream",
          "text": [
            "\r 14%|█▎        | 3/22 [00:08<00:56,  2.95s/it]"
          ],
          "name": "stderr"
        },
        {
          "output_type": "stream",
          "text": [
            "SmartScreen\n"
          ],
          "name": "stdout"
        },
        {
          "output_type": "stream",
          "text": [
            "\r 18%|█▊        | 4/22 [00:11<00:52,  2.94s/it]"
          ],
          "name": "stderr"
        },
        {
          "output_type": "stream",
          "text": [
            "Census_OSInstallTypeName\n"
          ],
          "name": "stdout"
        },
        {
          "output_type": "stream",
          "text": [
            "\r 23%|██▎       | 5/22 [00:14<00:50,  2.94s/it]"
          ],
          "name": "stderr"
        },
        {
          "output_type": "stream",
          "text": [
            "Census_OSEdition\n"
          ],
          "name": "stdout"
        },
        {
          "output_type": "stream",
          "text": [
            "\r 27%|██▋       | 6/22 [00:17<00:46,  2.92s/it]"
          ],
          "name": "stderr"
        },
        {
          "output_type": "stream",
          "text": [
            "Census_MDC2FormFactor\n"
          ],
          "name": "stdout"
        },
        {
          "output_type": "stream",
          "text": [
            "\r 32%|███▏      | 7/22 [00:20<00:44,  2.96s/it]"
          ],
          "name": "stderr"
        },
        {
          "output_type": "stream",
          "text": [
            "Census_FlightRing\n"
          ],
          "name": "stdout"
        },
        {
          "output_type": "stream",
          "text": [
            "\r 36%|███▋      | 8/22 [00:23<00:40,  2.92s/it]"
          ],
          "name": "stderr"
        },
        {
          "output_type": "stream",
          "text": [
            "Census_OSWUAutoUpdateOptionsName\n"
          ],
          "name": "stdout"
        },
        {
          "output_type": "stream",
          "text": [
            "\r 41%|████      | 9/22 [00:26<00:37,  2.90s/it]"
          ],
          "name": "stderr"
        },
        {
          "output_type": "stream",
          "text": [
            "OsPlatformSubRelease\n"
          ],
          "name": "stdout"
        },
        {
          "output_type": "stream",
          "text": [
            "\r 45%|████▌     | 10/22 [00:29<00:34,  2.90s/it]"
          ],
          "name": "stderr"
        },
        {
          "output_type": "stream",
          "text": [
            "Census_PowerPlatformRoleName\n"
          ],
          "name": "stdout"
        },
        {
          "output_type": "stream",
          "text": [
            "\r 50%|█████     | 11/22 [00:32<00:31,  2.89s/it]"
          ],
          "name": "stderr"
        },
        {
          "output_type": "stream",
          "text": [
            "Census_OSArchitecture\n"
          ],
          "name": "stdout"
        },
        {
          "output_type": "stream",
          "text": [
            "\r 55%|█████▍    | 12/22 [00:34<00:28,  2.90s/it]"
          ],
          "name": "stderr"
        },
        {
          "output_type": "stream",
          "text": [
            "Census_DeviceFamily\n"
          ],
          "name": "stdout"
        },
        {
          "output_type": "stream",
          "text": [
            "\r 59%|█████▉    | 13/22 [00:37<00:26,  2.90s/it]"
          ],
          "name": "stderr"
        },
        {
          "output_type": "stream",
          "text": [
            "Census_OSBranch\n"
          ],
          "name": "stdout"
        },
        {
          "output_type": "stream",
          "text": [
            "\r 64%|██████▎   | 14/22 [00:40<00:23,  2.90s/it]"
          ],
          "name": "stderr"
        },
        {
          "output_type": "stream",
          "text": [
            "Census_OSSkuName\n"
          ],
          "name": "stdout"
        },
        {
          "output_type": "stream",
          "text": [
            "\r 68%|██████▊   | 15/22 [00:43<00:20,  2.91s/it]"
          ],
          "name": "stderr"
        },
        {
          "output_type": "stream",
          "text": [
            "Census_PrimaryDiskTypeName\n"
          ],
          "name": "stdout"
        },
        {
          "output_type": "stream",
          "text": [
            "\r 73%|███████▎  | 16/22 [00:46<00:17,  2.92s/it]"
          ],
          "name": "stderr"
        },
        {
          "output_type": "stream",
          "text": [
            "Census_ActivationChannel\n"
          ],
          "name": "stdout"
        },
        {
          "output_type": "stream",
          "text": [
            "\r 77%|███████▋  | 17/22 [00:49<00:14,  2.98s/it]"
          ],
          "name": "stderr"
        },
        {
          "output_type": "stream",
          "text": [
            "Platform\n"
          ],
          "name": "stdout"
        },
        {
          "output_type": "stream",
          "text": [
            "\r 82%|████████▏ | 18/22 [00:52<00:11,  2.95s/it]"
          ],
          "name": "stderr"
        },
        {
          "output_type": "stream",
          "text": [
            "Processor\n"
          ],
          "name": "stdout"
        },
        {
          "output_type": "stream",
          "text": [
            "\r 86%|████████▋ | 19/22 [00:55<00:08,  2.92s/it]"
          ],
          "name": "stderr"
        },
        {
          "output_type": "stream",
          "text": [
            "SkuEdition\n"
          ],
          "name": "stdout"
        },
        {
          "output_type": "stream",
          "text": [
            "\r 91%|█████████ | 20/22 [00:58<00:05,  2.97s/it]"
          ],
          "name": "stderr"
        },
        {
          "output_type": "stream",
          "text": [
            "monitor_dims\n"
          ],
          "name": "stdout"
        },
        {
          "output_type": "stream",
          "text": [
            "\r 95%|█████████▌| 21/22 [01:01<00:02,  3.00s/it]"
          ],
          "name": "stderr"
        },
        {
          "output_type": "stream",
          "text": [
            "SmartScreen_AVProductsInstalled\n"
          ],
          "name": "stdout"
        },
        {
          "output_type": "stream",
          "text": [
            "100%|██████████| 22/22 [01:04<00:00,  2.93s/it]\n"
          ],
          "name": "stderr"
        }
      ]
    },
    {
      "cell_type": "code",
      "metadata": {
        "id": "ULJMPJcaZFXj",
        "colab_type": "code",
        "colab": {
          "base_uri": "https://localhost:8080/",
          "height": 34
        },
        "outputId": "e4baf185-adc3-4a0e-bbc2-0956f0def938"
      },
      "source": [
        "test = df[df[target].isnull()]\n",
        "test.shape"
      ],
      "execution_count": null,
      "outputs": [
        {
          "output_type": "execute_result",
          "data": {
            "text/plain": [
              "(7853253, 78)"
            ]
          },
          "metadata": {
            "tags": []
          },
          "execution_count": 61
        }
      ]
    },
    {
      "cell_type": "code",
      "metadata": {
        "id": "lwik16lHogU-",
        "colab_type": "code",
        "colab": {}
      },
      "source": [
        "train=df[df[target].notnull]\n",
        "train.shape"
      ],
      "execution_count": null,
      "outputs": []
    },
    {
      "cell_type": "code",
      "metadata": {
        "id": "Uv0jZC052KGL",
        "colab_type": "code",
        "colab": {}
      },
      "source": [
        "# Save the encoded data-files\n",
        "train.to_csv('/content/drive/My Drive/microsoft/train_labelencoding_sample.csv', index = False)\n",
        "test.to_csv('/content/drive/My Drive/microsoft/test_labelencoding_sample.csv', index = False)"
      ],
      "execution_count": null,
      "outputs": []
    },
    {
      "cell_type": "markdown",
      "metadata": {
        "id": "7tPfPcR_xV7w",
        "colab_type": "text"
      },
      "source": [
        "### **Dimensionality Reduction**\n",
        "Since after one hot encoding, the dimension of the design matrix becomes huge such that training our model becomes computationally expensive. We use only a set of selected features for training our model. In stage 1 we use data_vars fumction to give us an initial estimate of the importance of features. After that we threshold the importance and remove the features which lie below a certain threshold. In second step we use iterate_vif function to remove highly coorelated indepedent variables"
      ]
    },
    {
      "cell_type": "markdown",
      "metadata": {
        "id": "kC6K2uLwpSSf",
        "colab_type": "text"
      },
      "source": [
        "**Taking the sample of population with equal distribution of HasDetections**"
      ]
    },
    {
      "cell_type": "code",
      "metadata": {
        "id": "mG7w5NQ1S3s4",
        "colab_type": "code",
        "colab": {}
      },
      "source": [
        "import statsmodels.api as sm\n",
        "from statsmodels.stats.outliers_influence import variance_inflation_factor"
      ],
      "execution_count": 8,
      "outputs": []
    },
    {
      "cell_type": "code",
      "metadata": {
        "id": "UJh7wuY6o2fC",
        "colab_type": "code",
        "colab": {}
      },
      "source": [
        "train_1=train[train['HasDetections']==1].sample(100000,random_state=42)\n",
        "train_0=train[train['HasDetections']==0].sample(100000,random_state=42)\n",
        "train_sample=pd.concat([train_1,train_0])"
      ],
      "execution_count": null,
      "outputs": []
    },
    {
      "cell_type": "code",
      "metadata": {
        "id": "eB5h7utYbs10",
        "colab_type": "code",
        "colab": {}
      },
      "source": [
        "# target column\n",
        "target = 'HasDetections'\n",
        "# id from data set\n",
        "data_id = 'MachineIdentifier'"
      ],
      "execution_count": 10,
      "outputs": []
    },
    {
      "cell_type": "code",
      "metadata": {
        "id": "yfY3FiasrXk0",
        "colab_type": "code",
        "colab": {}
      },
      "source": [
        "y_train=train_sample[target]\n",
        "X_train=train_sample.drop([target,data_id],axis=1)"
      ],
      "execution_count": 11,
      "outputs": []
    },
    {
      "cell_type": "code",
      "metadata": {
        "id": "RRD1GdT4sa4Y",
        "colab_type": "code",
        "colab": {}
      },
      "source": [
        "max_bin = 20\n",
        "force_bin = 3\n",
        "\n",
        "# define a binning function\n",
        "def mono_bin(Y, X, n = max_bin):\n",
        "    \n",
        "    df1 = pd.DataFrame({\"X\": X, \"Y\": Y})\n",
        "    justmiss = df1[['X','Y']][df1.X.isnull()]\n",
        "    notmiss = df1[['X','Y']][df1.X.notnull()]\n",
        "    r = 0\n",
        "    while np.abs(r) < 1:\n",
        "        try:\n",
        "            d1 = pd.DataFrame({\"X\": notmiss.X, \"Y\": notmiss.Y, \"Bucket\": pd.qcut(notmiss.X, n)})\n",
        "            d2 = d1.groupby('Bucket', as_index=True)\n",
        "            r, p = stats.spearmanr(d2.mean().X, d2.mean().Y)\n",
        "            n = n - 1 \n",
        "        except Exception as e:\n",
        "            n = n - 1\n",
        "\n",
        "    if len(d2) == 1:\n",
        "        n = force_bin         \n",
        "        bins = algos.quantile(notmiss.X, np.linspace(0, 1, n))\n",
        "        if len(np.unique(bins)) == 2:\n",
        "            bins = np.insert(bins, 0, 1)\n",
        "            bins[1] = bins[1]-(bins[1]/2)\n",
        "        d1 = pd.DataFrame({\"X\": notmiss.X, \"Y\": notmiss.Y, \"Bucket\": pd.cut(notmiss.X, np.unique(bins),include_lowest=True)}) \n",
        "        d2 = d1.groupby('Bucket', as_index=True)\n",
        "    \n",
        "    d3 = pd.DataFrame({},index=[])\n",
        "    d3[\"MIN_VALUE\"] = d2.min().X\n",
        "    d3[\"MAX_VALUE\"] = d2.max().X\n",
        "    d3[\"COUNT\"] = d2.count().Y\n",
        "    d3[\"EVENT\"] = d2.sum().Y\n",
        "    d3[\"NONEVENT\"] = d2.count().Y - d2.sum().Y\n",
        "    d3=d3.reset_index(drop=True)\n",
        "    \n",
        "    if len(justmiss.index) > 0:\n",
        "        d4 = pd.DataFrame({'MIN_VALUE':np.nan},index=[0])\n",
        "        d4[\"MAX_VALUE\"] = np.nan\n",
        "        d4[\"COUNT\"] = justmiss.count().Y\n",
        "        d4[\"EVENT\"] = justmiss.sum().Y\n",
        "        d4[\"NONEVENT\"] = justmiss.count().Y - justmiss.sum().Y\n",
        "        d3 = d3.append(d4,ignore_index=True)\n",
        "    \n",
        "    d3[\"EVENT_RATE\"] = d3.EVENT/d3.COUNT\n",
        "    d3[\"NON_EVENT_RATE\"] = d3.NONEVENT/d3.COUNT\n",
        "    d3[\"DIST_EVENT\"] = d3.EVENT/d3.sum().EVENT\n",
        "    d3[\"DIST_NON_EVENT\"] = d3.NONEVENT/d3.sum().NONEVENT\n",
        "    d3[\"WOE\"] = np.log(d3.DIST_EVENT/d3.DIST_NON_EVENT)\n",
        "    d3[\"IV\"] = (d3.DIST_EVENT-d3.DIST_NON_EVENT)*np.log(d3.DIST_EVENT/d3.DIST_NON_EVENT)\n",
        "    d3[\"VAR_NAME\"] = \"VAR\"\n",
        "    d3 = d3[['VAR_NAME','MIN_VALUE', 'MAX_VALUE', 'COUNT', 'EVENT', 'EVENT_RATE', 'NONEVENT', 'NON_EVENT_RATE', 'DIST_EVENT','DIST_NON_EVENT','WOE', 'IV']]       \n",
        "    d3 = d3.replace([np.inf, -np.inf], 0)\n",
        "    d3.IV = d3.IV.sum()\n",
        "    \n",
        "    return(d3)\n",
        "\n",
        "def char_bin(Y, X):\n",
        "        \n",
        "    df1 = pd.DataFrame({\"X\": X, \"Y\": Y})\n",
        "    justmiss = df1[['X','Y']][df1.X.isnull()]\n",
        "    notmiss = df1[['X','Y']][df1.X.notnull()]    \n",
        "    df2 = notmiss.groupby('X',as_index=True)\n",
        "    \n",
        "    d3 = pd.DataFrame({},index=[])\n",
        "    d3[\"COUNT\"] = df2.count().Y\n",
        "    d3[\"MIN_VALUE\"] = df2.sum().Y.index\n",
        "    d3[\"MAX_VALUE\"] = d3[\"MIN_VALUE\"]\n",
        "    d3[\"EVENT\"] = df2.sum().Y\n",
        "    d3[\"NONEVENT\"] = df2.count().Y - df2.sum().Y\n",
        "    \n",
        "    if len(justmiss.index) > 0:\n",
        "        d4 = pd.DataFrame({'MIN_VALUE':np.nan},index=[0])\n",
        "        d4[\"MAX_VALUE\"] = np.nan\n",
        "        d4[\"COUNT\"] = justmiss.count().Y\n",
        "        d4[\"EVENT\"] = justmiss.sum().Y\n",
        "        d4[\"NONEVENT\"] = justmiss.count().Y - justmiss.sum().Y\n",
        "        d3 = d3.append(d4,ignore_index=True)\n",
        "    \n",
        "    d3[\"EVENT_RATE\"] = d3.EVENT/d3.COUNT\n",
        "    d3[\"NON_EVENT_RATE\"] = d3.NONEVENT/d3.COUNT\n",
        "    d3[\"DIST_EVENT\"] = d3.EVENT/d3.sum().EVENT\n",
        "    d3[\"DIST_NON_EVENT\"] = d3.NONEVENT/d3.sum().NONEVENT\n",
        "    d3[\"WOE\"] = np.log(d3.DIST_EVENT/d3.DIST_NON_EVENT)\n",
        "    d3[\"IV\"] = (d3.DIST_EVENT-d3.DIST_NON_EVENT)*np.log(d3.DIST_EVENT/d3.DIST_NON_EVENT)\n",
        "    d3[\"VAR_NAME\"] = \"VAR\"\n",
        "    d3 = d3[['VAR_NAME','MIN_VALUE', 'MAX_VALUE', 'COUNT', 'EVENT', 'EVENT_RATE', 'NONEVENT', 'NON_EVENT_RATE', 'DIST_EVENT','DIST_NON_EVENT','WOE', 'IV']]      \n",
        "    d3 = d3.replace([np.inf, -np.inf], 0)\n",
        "    d3.IV = d3.IV.sum()\n",
        "    d3 = d3.reset_index(drop=True)\n",
        "    \n",
        "    return(d3)\n",
        "\n",
        "def data_vars(df1, target):\n",
        "    \n",
        "    stack = traceback.extract_stack()\n",
        "    filename, lineno, function_name, code = stack[-2]\n",
        "    vars_name = re.compile(r'\\((.*?)\\).*$').search(code).groups()[0]\n",
        "    final = (re.findall(r\"[\\w']+\", vars_name))[-1]\n",
        "    \n",
        "    x = df1.dtypes.index\n",
        "    count = -1\n",
        "    \n",
        "    for i in x:\n",
        "        if i.upper() not in (final.upper()):\n",
        "            if np.issubdtype(df1[i], np.number) and len(Series.unique(df1[i])) > 2:\n",
        "                conv = mono_bin(target, df1[i])\n",
        "                conv[\"VAR_NAME\"] = i\n",
        "                count = count + 1\n",
        "            else:\n",
        "                conv = char_bin(target, df1[i])\n",
        "                conv[\"VAR_NAME\"] = i            \n",
        "                count = count + 1\n",
        "                \n",
        "            if count == 0:\n",
        "                iv_df = conv\n",
        "            else:\n",
        "                iv_df = iv_df.append(conv,ignore_index=True)\n",
        "    \n",
        "    iv = pd.DataFrame({'IV':iv_df.groupby('VAR_NAME').IV.max()})\n",
        "    iv = iv.reset_index()\n",
        "    return(iv_df,iv)"
      ],
      "execution_count": 12,
      "outputs": []
    },
    {
      "cell_type": "code",
      "metadata": {
        "id": "FLeY_C6_seDu",
        "colab_type": "code",
        "colab": {
          "base_uri": "https://localhost:8080/",
          "height": 51
        },
        "outputId": "965a5e5e-db3e-417e-d938-501c7f7edd52"
      },
      "source": [
        "final_iv, IV = data_vars(X_train, y_train)"
      ],
      "execution_count": 13,
      "outputs": [
        {
          "output_type": "stream",
          "text": [
            "/usr/local/lib/python3.6/dist-packages/pandas/core/series.py:679: RuntimeWarning: divide by zero encountered in log\n",
            "  result = getattr(ufunc, method)(*inputs, **kwargs)\n"
          ],
          "name": "stderr"
        }
      ]
    },
    {
      "cell_type": "code",
      "metadata": {
        "id": "MPOnls7_sgZC",
        "colab_type": "code",
        "colab": {}
      },
      "source": [
        "features = list(IV[(IV['IV'] >= 0.01) & (IV['IV'] <= 0.8)]['VAR_NAME'])\n",
        "X2 = X_train[features]"
      ],
      "execution_count": 14,
      "outputs": []
    },
    {
      "cell_type": "code",
      "metadata": {
        "id": "lCF9mOyFGs8L",
        "colab_type": "code",
        "colab": {
          "base_uri": "https://localhost:8080/",
          "height": 34
        },
        "outputId": "4f0c09c2-7b91-490f-a0c3-416e33bda654"
      },
      "source": [
        "X2.shape"
      ],
      "execution_count": 15,
      "outputs": [
        {
          "output_type": "execute_result",
          "data": {
            "text/plain": [
              "(200000, 17)"
            ]
          },
          "metadata": {
            "tags": []
          },
          "execution_count": 15
        }
      ]
    },
    {
      "cell_type": "code",
      "metadata": {
        "id": "tsigSCUHv72h",
        "colab_type": "code",
        "colab": {
          "base_uri": "https://localhost:8080/",
          "height": 221
        },
        "outputId": "2842d508-3865-4bf8-df88-6e416ce5242d"
      },
      "source": [
        "def iterate_vif(df, vif_threshold=5, max_vif=6):\n",
        "  count = 0\n",
        "  while max_vif > vif_threshold:\n",
        "    count += 1\n",
        "    print(\"Iteration # \"+str(count))\n",
        "    vif = pd.DataFrame()\n",
        "    vif[\"VIFactor\"] = [variance_inflation_factor(df.values, i) for i in range(df.shape[1])]\n",
        "    vif[\"features\"] = df.columns\n",
        "    \n",
        "    if vif['VIFactor'].max() > vif_threshold:\n",
        "      print('Removing %s with VIF of %f' % (vif[vif['VIFactor'] == vif['VIFactor'].max()]['features'].values[0], vif['VIFactor'].max()))\n",
        "      df = df.drop(vif[vif['VIFactor'] == vif['VIFactor'].max()]['features'].values[0], axis=1)\n",
        "      max_vif = vif['VIFactor'].max()\n",
        "    else:\n",
        "        print('Complete')\n",
        "        return df, vif.sort_values('VIFactor')\n",
        " \n",
        "final_df, final_vif = iterate_vif(X2)"
      ],
      "execution_count": 16,
      "outputs": [
        {
          "output_type": "stream",
          "text": [
            "Iteration # 1\n",
            "Removing Processor with VIF of 102.676802\n",
            "Iteration # 2\n",
            "Removing AVProductsEnabled with VIF of 31.212012\n",
            "Iteration # 3\n",
            "Removing IsProtected with VIF of 13.556412\n",
            "Iteration # 4\n",
            "Removing SmartScreen_AVProductsInstalled with VIF of 9.490429\n",
            "Iteration # 5\n",
            "Removing Census_PowerPlatformRoleName with VIF of 6.787455\n",
            "Iteration # 6\n",
            "Complete\n"
          ],
          "name": "stdout"
        }
      ]
    },
    {
      "cell_type": "code",
      "metadata": {
        "id": "IxO7J1NFv90T",
        "colab_type": "code",
        "colab": {
          "base_uri": "https://localhost:8080/",
          "height": 221
        },
        "outputId": "bbded5b9-df53-411e-ebc1-ed14618ea92f"
      },
      "source": [
        "X1 = X2._get_numeric_data()\n",
        "X_train, final_vif = iterate_vif(X1)"
      ],
      "execution_count": 17,
      "outputs": [
        {
          "output_type": "stream",
          "text": [
            "Iteration # 1\n",
            "Removing Processor with VIF of 102.676802\n",
            "Iteration # 2\n",
            "Removing AVProductsEnabled with VIF of 31.212012\n",
            "Iteration # 3\n",
            "Removing IsProtected with VIF of 13.556412\n",
            "Iteration # 4\n",
            "Removing SmartScreen_AVProductsInstalled with VIF of 9.490429\n",
            "Iteration # 5\n",
            "Removing Census_PowerPlatformRoleName with VIF of 6.787455\n",
            "Iteration # 6\n",
            "Complete\n"
          ],
          "name": "stdout"
        }
      ]
    },
    {
      "cell_type": "code",
      "metadata": {
        "id": "l3qGs_pCww9p",
        "colab_type": "code",
        "colab": {
          "base_uri": "https://localhost:8080/",
          "height": 34
        },
        "outputId": "625e728b-71b7-46d0-e5c9-e3c32b74ad01"
      },
      "source": [
        "X_train.shape"
      ],
      "execution_count": 18,
      "outputs": [
        {
          "output_type": "execute_result",
          "data": {
            "text/plain": [
              "(200000, 12)"
            ]
          },
          "metadata": {
            "tags": []
          },
          "execution_count": 18
        }
      ]
    },
    {
      "cell_type": "code",
      "metadata": {
        "id": "yz3WOCqRxGPA",
        "colab_type": "code",
        "colab": {
          "base_uri": "https://localhost:8080/",
          "height": 34
        },
        "outputId": "f2220406-35e1-4c92-8207-902a2bfe96a2"
      },
      "source": [
        "X_test=test[X_train.columns]\n",
        "X_test.shape"
      ],
      "execution_count": 19,
      "outputs": [
        {
          "output_type": "execute_result",
          "data": {
            "text/plain": [
              "(7853253, 12)"
            ]
          },
          "metadata": {
            "tags": []
          },
          "execution_count": 19
        }
      ]
    },
    {
      "cell_type": "code",
      "metadata": {
        "id": "NREREnrEqgwd",
        "colab_type": "code",
        "colab": {}
      },
      "source": [
        "X_train.to_csv('/content/drive/My Drive/label_encoding/X_train.csv', index = False)\n",
        "y_train.to_csv('/content/drive/My Drive/label_encoding/y_train.csv', index = False)\n",
        "X_test.to_csv('//content/drive/My Drive/label_encoding/X_test.csv', index = False)"
      ],
      "execution_count": 22,
      "outputs": []
    },
    {
      "cell_type": "code",
      "metadata": {
        "id": "Z2IIwsIJpnFY",
        "colab_type": "code",
        "colab": {}
      },
      "source": [
        ""
      ],
      "execution_count": null,
      "outputs": []
    }
  ]
}