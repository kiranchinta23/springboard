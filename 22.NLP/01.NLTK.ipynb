{
 "cells": [
  {
   "cell_type": "markdown",
   "metadata": {},
   "source": [
    "# <u> Tokenization</u>"
   ]
  },
  {
   "cell_type": "code",
   "execution_count": 5,
   "metadata": {},
   "outputs": [],
   "source": [
    "import nltk\n",
    "#ltk.download()"
   ]
  },
  {
   "cell_type": "code",
   "execution_count": 18,
   "metadata": {},
   "outputs": [],
   "source": [
    "corpse='''Not long ago, I came across a little-known speech titled, “You and Your Research”.\n",
    "\n",
    "The speech had been delivered in 1986 by Richard Hamming, an accomplished mathematician and computer engineer, as part of an internal series of talks given at Bell Labs. I had never heard of Hamming, the internal lecture series at Bell Labs, or this particular speech. And yet, as I read the transcript, I came across one useful insight after another.\n",
    "\n",
    "After reading that talk, I got to thinking… what other great talks and speeches are out there that I've never heard?\n",
    "\n",
    "I've been slowly searching for answers to that question and the result is this list of my favorite interesting and insightful talks that are not widely known. You may see a few famous speeches on this list, but my guess is that most people are not aware of many of them—just as I wasn't when I first started looking around.\n",
    "\n",
    "As far as I know this is the only place where you can read transcripts of these speeches in one place.'''"
   ]
  },
  {
   "cell_type": "code",
   "execution_count": 19,
   "metadata": {},
   "outputs": [],
   "source": [
    "sentences=nltk.sent_tokenize(corpse)"
   ]
  },
  {
   "cell_type": "code",
   "execution_count": 20,
   "metadata": {},
   "outputs": [],
   "source": [
    "words=nltk.word_tokenize(corpse)"
   ]
  },
  {
   "cell_type": "code",
   "execution_count": 21,
   "metadata": {},
   "outputs": [
    {
     "data": {
      "text/plain": [
       "['Not long ago, I came across a little-known speech titled, “You and Your Research”.',\n",
       " 'The speech had been delivered in 1986 by Richard Hamming, an accomplished mathematician and computer engineer, as part of an internal series of talks given at Bell Labs.',\n",
       " 'I had never heard of Hamming, the internal lecture series at Bell Labs, or this particular speech.',\n",
       " 'And yet, as I read the transcript, I came across one useful insight after another.',\n",
       " \"After reading that talk, I got to thinking… what other great talks and speeches are out there that I've never heard?\",\n",
       " \"I've been slowly searching for answers to that question and the result is this list of my favorite interesting and insightful talks that are not widely known.\",\n",
       " \"You may see a few famous speeches on this list, but my guess is that most people are not aware of many of them—just as I wasn't when I first started looking around.\",\n",
       " 'As far as I know this is the only place where you can read transcripts of these speeches in one place.']"
      ]
     },
     "execution_count": 21,
     "metadata": {},
     "output_type": "execute_result"
    }
   ],
   "source": [
    "sentences"
   ]
  },
  {
   "cell_type": "code",
   "execution_count": 22,
   "metadata": {},
   "outputs": [
    {
     "data": {
      "text/plain": [
       "['Not',\n",
       " 'long',\n",
       " 'ago',\n",
       " ',',\n",
       " 'I',\n",
       " 'came',\n",
       " 'across',\n",
       " 'a',\n",
       " 'little-known',\n",
       " 'speech',\n",
       " 'titled',\n",
       " ',',\n",
       " '“',\n",
       " 'You',\n",
       " 'and',\n",
       " 'Your',\n",
       " 'Research',\n",
       " '”',\n",
       " '.',\n",
       " 'The',\n",
       " 'speech',\n",
       " 'had',\n",
       " 'been',\n",
       " 'delivered',\n",
       " 'in',\n",
       " '1986',\n",
       " 'by',\n",
       " 'Richard',\n",
       " 'Hamming',\n",
       " ',',\n",
       " 'an',\n",
       " 'accomplished',\n",
       " 'mathematician',\n",
       " 'and',\n",
       " 'computer',\n",
       " 'engineer',\n",
       " ',',\n",
       " 'as',\n",
       " 'part',\n",
       " 'of',\n",
       " 'an',\n",
       " 'internal',\n",
       " 'series',\n",
       " 'of',\n",
       " 'talks',\n",
       " 'given',\n",
       " 'at',\n",
       " 'Bell',\n",
       " 'Labs',\n",
       " '.',\n",
       " 'I',\n",
       " 'had',\n",
       " 'never',\n",
       " 'heard',\n",
       " 'of',\n",
       " 'Hamming',\n",
       " ',',\n",
       " 'the',\n",
       " 'internal',\n",
       " 'lecture',\n",
       " 'series',\n",
       " 'at',\n",
       " 'Bell',\n",
       " 'Labs',\n",
       " ',',\n",
       " 'or',\n",
       " 'this',\n",
       " 'particular',\n",
       " 'speech',\n",
       " '.',\n",
       " 'And',\n",
       " 'yet',\n",
       " ',',\n",
       " 'as',\n",
       " 'I',\n",
       " 'read',\n",
       " 'the',\n",
       " 'transcript',\n",
       " ',',\n",
       " 'I',\n",
       " 'came',\n",
       " 'across',\n",
       " 'one',\n",
       " 'useful',\n",
       " 'insight',\n",
       " 'after',\n",
       " 'another',\n",
       " '.',\n",
       " 'After',\n",
       " 'reading',\n",
       " 'that',\n",
       " 'talk',\n",
       " ',',\n",
       " 'I',\n",
       " 'got',\n",
       " 'to',\n",
       " 'thinking…',\n",
       " 'what',\n",
       " 'other',\n",
       " 'great',\n",
       " 'talks',\n",
       " 'and',\n",
       " 'speeches',\n",
       " 'are',\n",
       " 'out',\n",
       " 'there',\n",
       " 'that',\n",
       " 'I',\n",
       " \"'ve\",\n",
       " 'never',\n",
       " 'heard',\n",
       " '?',\n",
       " 'I',\n",
       " \"'ve\",\n",
       " 'been',\n",
       " 'slowly',\n",
       " 'searching',\n",
       " 'for',\n",
       " 'answers',\n",
       " 'to',\n",
       " 'that',\n",
       " 'question',\n",
       " 'and',\n",
       " 'the',\n",
       " 'result',\n",
       " 'is',\n",
       " 'this',\n",
       " 'list',\n",
       " 'of',\n",
       " 'my',\n",
       " 'favorite',\n",
       " 'interesting',\n",
       " 'and',\n",
       " 'insightful',\n",
       " 'talks',\n",
       " 'that',\n",
       " 'are',\n",
       " 'not',\n",
       " 'widely',\n",
       " 'known',\n",
       " '.',\n",
       " 'You',\n",
       " 'may',\n",
       " 'see',\n",
       " 'a',\n",
       " 'few',\n",
       " 'famous',\n",
       " 'speeches',\n",
       " 'on',\n",
       " 'this',\n",
       " 'list',\n",
       " ',',\n",
       " 'but',\n",
       " 'my',\n",
       " 'guess',\n",
       " 'is',\n",
       " 'that',\n",
       " 'most',\n",
       " 'people',\n",
       " 'are',\n",
       " 'not',\n",
       " 'aware',\n",
       " 'of',\n",
       " 'many',\n",
       " 'of',\n",
       " 'them—just',\n",
       " 'as',\n",
       " 'I',\n",
       " 'was',\n",
       " \"n't\",\n",
       " 'when',\n",
       " 'I',\n",
       " 'first',\n",
       " 'started',\n",
       " 'looking',\n",
       " 'around',\n",
       " '.',\n",
       " 'As',\n",
       " 'far',\n",
       " 'as',\n",
       " 'I',\n",
       " 'know',\n",
       " 'this',\n",
       " 'is',\n",
       " 'the',\n",
       " 'only',\n",
       " 'place',\n",
       " 'where',\n",
       " 'you',\n",
       " 'can',\n",
       " 'read',\n",
       " 'transcripts',\n",
       " 'of',\n",
       " 'these',\n",
       " 'speeches',\n",
       " 'in',\n",
       " 'one',\n",
       " 'place',\n",
       " '.']"
      ]
     },
     "execution_count": 22,
     "metadata": {},
     "output_type": "execute_result"
    }
   ],
   "source": [
    "words"
   ]
  },
  {
   "cell_type": "markdown",
   "metadata": {},
   "source": [
    "# <u> Stemmming and Lemmatization </u>"
   ]
  },
  {
   "cell_type": "markdown",
   "metadata": {},
   "source": [
    "<img src='stem.png'>"
   ]
  },
  {
   "cell_type": "markdown",
   "metadata": {},
   "source": [
    "### Stemming"
   ]
  },
  {
   "cell_type": "code",
   "execution_count": 16,
   "metadata": {},
   "outputs": [],
   "source": [
    "from nltk.stem import PorterStemmer\n",
    "from nltk.corpus import stopwords\n",
    "\n",
    "stemmer=PorterStemmer()\n",
    "\n",
    "for i in range(len(sentences)):\n",
    "    words=nltk.word_tokenize(sentences[i])\n",
    "    words=[stemmer.stem(word) for word in words if word not in set(stopwords.words('english'))]\n",
    "    sentences[i]=' '.join(words)"
   ]
  },
  {
   "cell_type": "code",
   "execution_count": 17,
   "metadata": {},
   "outputs": [
    {
     "data": {
      "text/plain": [
       "['not long ago , I came across little-known speech titl , “ you your research ” .',\n",
       " 'the speech deliv 1986 richard ham , accomplish mathematician comput engin , part intern seri talk given bell lab .',\n",
       " 'I never heard ham , intern lectur seri bell lab , particular speech .',\n",
       " 'and yet , I read transcript , I came across one use insight anoth .',\n",
       " \"after read talk , I got thinking… great talk speech I 've never heard ?\",\n",
       " \"I 've slowli search answer question result list favorit interest insight talk wide known .\",\n",
       " \"you may see famou speech list , guess peopl awar mani them—just I n't I first start look around .\",\n",
       " 'As far I know place read transcript speech one place .']"
      ]
     },
     "execution_count": 17,
     "metadata": {},
     "output_type": "execute_result"
    }
   ],
   "source": [
    "sentences"
   ]
  },
  {
   "cell_type": "markdown",
   "metadata": {},
   "source": [
    "### Lemmatization"
   ]
  },
  {
   "cell_type": "code",
   "execution_count": 28,
   "metadata": {},
   "outputs": [],
   "source": [
    "from nltk.stem import WordNetLemmatizer\n",
    "from nltk.corpus import stopwords\n",
    "\n",
    "lemmatizer=WordNetLemmatizer()\n",
    "\n",
    "for i in range(len(sentences)):\n",
    "    words=nltk.word_tokenize(sentences[i])\n",
    "    words=[lemmatizer.lemmatize(word) for word in words if word not in set(stopwords.words('english'))]\n",
    "    sentences[i]=' '.join(words)"
   ]
  },
  {
   "cell_type": "code",
   "execution_count": 29,
   "metadata": {},
   "outputs": [
    {
     "data": {
      "text/plain": [
       "['Not long ago , I came across little-known speech titled , “ You Your Research ” .',\n",
       " 'The speech delivered 1986 Richard Hamming , accomplished mathematician computer engineer , part internal series talk given Bell Labs .',\n",
       " 'I never heard Hamming , internal lecture series Bell Labs , particular speech .',\n",
       " 'And yet , I read transcript , I came across one useful insight another .',\n",
       " \"After reading talk , I got thinking… great talk speech I 've never heard ?\",\n",
       " \"I 've slowly searching answer question result list favorite interesting insightful talk widely known .\",\n",
       " \"You may see famous speech list , guess people aware many them—just I n't I first started looking around .\",\n",
       " 'As far I know place read transcript speech one place .']"
      ]
     },
     "execution_count": 29,
     "metadata": {},
     "output_type": "execute_result"
    }
   ],
   "source": [
    "sentences"
   ]
  },
  {
   "cell_type": "code",
   "execution_count": null,
   "metadata": {},
   "outputs": [],
   "source": []
  },
  {
   "cell_type": "markdown",
   "metadata": {},
   "source": [
    "# <u>Bag of words</u>"
   ]
  },
  {
   "cell_type": "markdown",
   "metadata": {},
   "source": [
    "<img src='bow.jpg'>"
   ]
  },
  {
   "cell_type": "code",
   "execution_count": 10,
   "metadata": {},
   "outputs": [
    {
     "name": "stdout",
     "output_type": "stream",
     "text": [
      "['good boy .', 'good girl .', 'boy girl good']\n",
      "|boy| |girl| |good|\n",
      "[[1 0 1]\n",
      " [0 1 1]\n",
      " [1 1 1]]\n"
     ]
    }
   ],
   "source": [
    "para='he is good boy. she is good girl. boy and girl are good'\n",
    "\n",
    "import nltk\n",
    "from nltk.corpus import stopwords\n",
    "from nltk.stem import PorterStemmer\n",
    "\n",
    "stemmer=PorterStemmer()\n",
    "\n",
    "sentences=nltk.sent_tokenize(para)\n",
    "\n",
    "corpus=[]\n",
    "for i in range(len(sentences)):\n",
    "    words=nltk.word_tokenize(sentences[i])\n",
    "    words=[stemmer.stem(word) for word in words if word not in stopwords.words('english')]\n",
    "    words=' '.join(words)\n",
    "    corpus.append(words)\n",
    "\n",
    "print(corpus)\n",
    "\n",
    "from sklearn.feature_extraction.text import CountVectorizer\n",
    "cv=CountVectorizer()\n",
    "x=cv.fit_transform(corpus).toarray()\n",
    "\n",
    "print('|boy|','|girl|','|good|')\n",
    "print(x)"
   ]
  },
  {
   "cell_type": "code",
   "execution_count": 30,
   "metadata": {},
   "outputs": [],
   "source": [
    "paragraph='''Not long ago, I came across a little-known speech titled, “You and Your Research”.\n",
    "\n",
    "The speech had been delivered in 1986 by Richard Hamming, an accomplished mathematician and computer engineer, as part of an internal series of talks given at Bell Labs. I had never heard of Hamming, the internal lecture series at Bell Labs, or this particular speech. And yet, as I read the transcript, I came across one useful insight after another.\n",
    "\n",
    "After reading that talk, I got to thinking… what other great talks and speeches are out there that I've never heard?\n",
    "\n",
    "I've been slowly searching for answers to that question and the result is this list of my favorite interesting and insightful talks that are not widely known. You may see a few famous speeches on this list, but my guess is that most people are not aware of many of them—just as I wasn't when I first started looking around.\n",
    "\n",
    "As far as I know this is the only place where you can read transcripts of these speeches in one place.'''"
   ]
  },
  {
   "cell_type": "code",
   "execution_count": 32,
   "metadata": {},
   "outputs": [],
   "source": [
    "# cleaning texts libraries\n",
    "import re\n",
    "from nltk.corpus import stopwords\n",
    "from nltk.stem.porter import PorterStemmer\n",
    "from nltk.stem import WordNetLemmatizer\n",
    "\n",
    "stemmer=PorterStemmer()\n",
    "lemmatizer=WordNetLemmatizer()\n",
    "\n",
    "# can do lemmatizer or stemming\n",
    "sentences=nltk.sent_tokenize(paragraph)\n",
    "\n"
   ]
  },
  {
   "cell_type": "code",
   "execution_count": 33,
   "metadata": {},
   "outputs": [],
   "source": [
    "corpus=[]\n",
    "for i in range(len(sentences)):\n",
    "    review=re.sub('[^a-zA-z]',' ',sentences[i])\n",
    "    review=review.lower()\n",
    "    review=review.split()\n",
    "    review=[stemmer.stem(word) for word in review if word not in set(stopwords.words('english'))]\n",
    "    review=' '.join(review)\n",
    "    corpus.append(review)"
   ]
  },
  {
   "cell_type": "code",
   "execution_count": 36,
   "metadata": {},
   "outputs": [],
   "source": [
    "# create bag of words\n",
    "from sklearn.feature_extraction.text import CountVectorizer\n",
    "cv=CountVectorizer(max_features=1500)\n",
    "x=cv.fit_transform(corpus).toarray()"
   ]
  },
  {
   "cell_type": "code",
   "execution_count": 37,
   "metadata": {},
   "outputs": [
    {
     "data": {
      "text/plain": [
       "array([[0, 1, 1, 0, 0, 0, 0, 0, 1, 0, 0, 0, 0, 0, 0, 0, 0, 0, 0, 0, 0, 0,\n",
       "        0, 0, 0, 0, 1, 0, 0, 0, 1, 1, 0, 0, 0, 0, 0, 0, 0, 0, 0, 0, 0, 0,\n",
       "        1, 0, 0, 0, 0, 0, 0, 1, 0, 0, 0, 1, 0, 0, 0, 0],\n",
       "       [1, 0, 0, 0, 0, 0, 0, 1, 0, 1, 1, 1, 0, 0, 0, 0, 1, 0, 0, 0, 1, 0,\n",
       "        0, 0, 1, 0, 0, 1, 0, 0, 0, 0, 0, 0, 1, 0, 0, 0, 1, 0, 0, 0, 0, 0,\n",
       "        0, 0, 1, 0, 0, 1, 0, 1, 0, 1, 0, 0, 0, 0, 0, 0],\n",
       "       [0, 0, 0, 0, 0, 0, 0, 1, 0, 0, 0, 0, 0, 0, 0, 0, 0, 0, 0, 0, 1, 1,\n",
       "        0, 0, 1, 0, 0, 1, 1, 0, 0, 0, 0, 0, 0, 0, 1, 0, 0, 1, 0, 0, 0, 0,\n",
       "        0, 0, 0, 0, 0, 1, 0, 1, 0, 0, 0, 0, 0, 0, 0, 0],\n",
       "       [0, 1, 0, 1, 0, 0, 0, 0, 1, 0, 0, 0, 0, 0, 0, 0, 0, 0, 0, 0, 0, 0,\n",
       "        1, 0, 0, 0, 0, 0, 0, 0, 0, 0, 0, 0, 0, 0, 0, 1, 0, 0, 0, 0, 0, 1,\n",
       "        0, 0, 0, 0, 0, 0, 0, 0, 0, 0, 0, 0, 1, 1, 0, 1],\n",
       "       [0, 0, 0, 0, 0, 0, 0, 0, 0, 0, 0, 0, 0, 0, 0, 0, 0, 1, 1, 0, 0, 1,\n",
       "        0, 0, 0, 0, 0, 0, 0, 0, 0, 0, 0, 0, 0, 0, 1, 0, 0, 0, 0, 0, 0, 1,\n",
       "        0, 0, 0, 0, 0, 0, 0, 1, 0, 2, 1, 0, 0, 0, 0, 0],\n",
       "       [0, 0, 0, 0, 1, 0, 0, 0, 0, 0, 0, 0, 0, 0, 1, 0, 0, 0, 0, 0, 0, 0,\n",
       "        1, 1, 0, 0, 1, 0, 0, 1, 0, 0, 0, 0, 0, 0, 0, 0, 0, 0, 0, 0, 1, 0,\n",
       "        0, 1, 0, 1, 0, 0, 1, 0, 0, 1, 0, 0, 0, 0, 1, 0],\n",
       "       [0, 0, 0, 0, 0, 1, 1, 0, 0, 0, 0, 0, 1, 0, 0, 1, 0, 0, 0, 1, 0, 0,\n",
       "        0, 0, 0, 0, 0, 0, 0, 1, 0, 0, 1, 1, 0, 1, 0, 0, 0, 0, 1, 0, 0, 0,\n",
       "        0, 0, 0, 0, 1, 0, 0, 1, 1, 0, 0, 0, 0, 0, 0, 0],\n",
       "       [0, 0, 0, 0, 0, 0, 0, 0, 0, 0, 0, 0, 0, 1, 0, 0, 0, 0, 0, 0, 0, 0,\n",
       "        0, 0, 0, 1, 0, 0, 0, 0, 0, 0, 0, 0, 0, 0, 0, 1, 0, 0, 0, 2, 0, 1,\n",
       "        0, 0, 0, 0, 0, 0, 0, 1, 0, 0, 0, 0, 1, 0, 0, 0]], dtype=int64)"
      ]
     },
     "execution_count": 37,
     "metadata": {},
     "output_type": "execute_result"
    }
   ],
   "source": [
    "x"
   ]
  },
  {
   "cell_type": "markdown",
   "metadata": {},
   "source": [
    "drawbacks:\n",
    "no particular importance to the features"
   ]
  },
  {
   "cell_type": "code",
   "execution_count": null,
   "metadata": {},
   "outputs": [],
   "source": []
  },
  {
   "cell_type": "markdown",
   "metadata": {},
   "source": [
    "# <u>TF-IDF</u>"
   ]
  },
  {
   "cell_type": "markdown",
   "metadata": {},
   "source": [
    "<img src='tfidf.png'>"
   ]
  },
  {
   "cell_type": "code",
   "execution_count": 41,
   "metadata": {},
   "outputs": [
    {
     "name": "stdout",
     "output_type": "stream",
     "text": [
      "['good boy .', 'good girl .', 'boy girl good']\n",
      "['boy', 'girl', 'good']\n",
      "[[0.78980693 0.         0.61335554]\n",
      " [0.         0.78980693 0.61335554]\n",
      " [0.61980538 0.61980538 0.48133417]]\n"
     ]
    }
   ],
   "source": [
    "para='he is good boy. she is good girl. boy and girl are good'\n",
    "\n",
    "import nltk\n",
    "from nltk.corpus import stopwords\n",
    "from nltk.stem import PorterStemmer\n",
    "\n",
    "stemmer=PorterStemmer()\n",
    "\n",
    "sentences=nltk.sent_tokenize(para)\n",
    "\n",
    "corpus=[]\n",
    "for i in range(len(sentences)):\n",
    "    words=nltk.word_tokenize(sentences[i])\n",
    "    words=[stemmer.stem(word) for word in words if word not in stopwords.words('english')]\n",
    "    words=' '.join(words)\n",
    "    corpus.append(words)\n",
    "\n",
    "print(corpus)\n",
    "\n",
    "from sklearn.feature_extraction.text import TfidfVectorizer\n",
    "tfidf=TfidfVectorizer()\n",
    "x=tfidf.fit_transform(corpus).toarray()\n",
    "\n",
    "print(tfidf.get_feature_names())\n",
    "print(x)\n"
   ]
  },
  {
   "cell_type": "code",
   "execution_count": 39,
   "metadata": {},
   "outputs": [],
   "source": [
    "paragraph='''Not long ago, I came across a little-known speech titled, “You and Your Research”.\n",
    "\n",
    "The speech had been delivered in 1986 by Richard Hamming, an accomplished mathematician and computer engineer, as part of an internal series of talks given at Bell Labs. I had never heard of Hamming, the internal lecture series at Bell Labs, or this particular speech. And yet, as I read the transcript, I came across one useful insight after another.\n",
    "\n",
    "After reading that talk, I got to thinking… what other great talks and speeches are out there that I've never heard?\n",
    "\n",
    "I've been slowly searching for answers to that question and the result is this list of my favorite interesting and insightful talks that are not widely known. You may see a few famous speeches on this list, but my guess is that most people are not aware of many of them—just as I wasn't when I first started looking around.\n",
    "\n",
    "As far as I know this is the only place where you can read transcripts of these speeches in one place.'''"
   ]
  },
  {
   "cell_type": "code",
   "execution_count": 41,
   "metadata": {},
   "outputs": [],
   "source": [
    "#import libraries for cleaning text\n",
    "import re\n",
    "from nltk.corpus import stopwords\n",
    "from nltk.stem.porter import PorterStemmer\n",
    "from nltk.stem import WordNetLemmatizer\n",
    "\n",
    "lemmatizer=WordNetLemmatizer()\n",
    "\n",
    "sentences=nltk.sent_tokenize(paragraph)"
   ]
  },
  {
   "cell_type": "code",
   "execution_count": 42,
   "metadata": {},
   "outputs": [],
   "source": [
    "corpus=[]\n",
    "for i in range(len(sentences)):\n",
    "    review=re.sub('[^a-zA-z]',' ',sentences[i])\n",
    "    review=review.lower()\n",
    "    review=review.split()\n",
    "    review=[lemmatizer.lemmatize(word) for word in review if word not in set(stopwords.words('english'))]\n",
    "    review=' '.join(review)\n",
    "    corpus.append(review)\n",
    "    \n",
    "    "
   ]
  },
  {
   "cell_type": "code",
   "execution_count": 45,
   "metadata": {},
   "outputs": [],
   "source": [
    "from sklearn.feature_extraction.text import TfidfVectorizer\n",
    "cv=TfidfVectorizer()\n",
    "x=cv.fit_transform(corpus).toarray()"
   ]
  },
  {
   "cell_type": "code",
   "execution_count": 46,
   "metadata": {},
   "outputs": [
    {
     "data": {
      "text/plain": [
       "array([[0.        , 0.3089861 , 0.36868416, 0.        , 0.        ,\n",
       "        0.        , 0.        , 0.        , 0.3089861 , 0.        ,\n",
       "        0.        , 0.        , 0.        , 0.        , 0.        ,\n",
       "        0.        , 0.        , 0.        , 0.        , 0.        ,\n",
       "        0.        , 0.        , 0.        , 0.        , 0.        ,\n",
       "        0.        , 0.        , 0.3089861 , 0.        , 0.        ,\n",
       "        0.        , 0.36868416, 0.36868416, 0.        , 0.        ,\n",
       "        0.        , 0.        , 0.        , 0.        , 0.        ,\n",
       "        0.        , 0.        , 0.        , 0.        , 0.        ,\n",
       "        0.        , 0.36868416, 0.        , 0.        , 0.        ,\n",
       "        0.        , 0.        , 0.        , 0.18423545, 0.        ,\n",
       "        0.        , 0.        , 0.36868416, 0.        , 0.        ,\n",
       "        0.        , 0.        ],\n",
       "       [0.28531173, 0.        , 0.        , 0.        , 0.        ,\n",
       "        0.        , 0.        , 0.2391135 , 0.        , 0.28531173,\n",
       "        0.28531173, 0.28531173, 0.        , 0.        , 0.        ,\n",
       "        0.        , 0.28531173, 0.        , 0.        , 0.        ,\n",
       "        0.2391135 , 0.        , 0.        , 0.        , 0.        ,\n",
       "        0.2391135 , 0.        , 0.        , 0.2391135 , 0.        ,\n",
       "        0.        , 0.        , 0.        , 0.        , 0.        ,\n",
       "        0.28531173, 0.        , 0.        , 0.        , 0.28531173,\n",
       "        0.        , 0.        , 0.        , 0.        , 0.        ,\n",
       "        0.        , 0.        , 0.        , 0.28531173, 0.        ,\n",
       "        0.        , 0.2391135 , 0.        , 0.14257334, 0.        ,\n",
       "        0.20633533, 0.        , 0.        , 0.        , 0.        ,\n",
       "        0.        , 0.        ],\n",
       "       [0.        , 0.        , 0.        , 0.        , 0.        ,\n",
       "        0.        , 0.        , 0.31306602, 0.        , 0.        ,\n",
       "        0.        , 0.        , 0.        , 0.        , 0.        ,\n",
       "        0.        , 0.        , 0.        , 0.        , 0.        ,\n",
       "        0.31306602, 0.31306602, 0.        , 0.        , 0.        ,\n",
       "        0.31306602, 0.        , 0.        , 0.31306602, 0.37355234,\n",
       "        0.        , 0.        , 0.        , 0.        , 0.        ,\n",
       "        0.        , 0.        , 0.31306602, 0.        , 0.        ,\n",
       "        0.37355234, 0.        , 0.        , 0.        , 0.        ,\n",
       "        0.        , 0.        , 0.        , 0.        , 0.        ,\n",
       "        0.        , 0.31306602, 0.        , 0.18666813, 0.        ,\n",
       "        0.        , 0.        , 0.        , 0.        , 0.        ,\n",
       "        0.        , 0.        ],\n",
       "       [0.        , 0.30578087, 0.        , 0.36485966, 0.        ,\n",
       "        0.        , 0.        , 0.        , 0.30578087, 0.        ,\n",
       "        0.        , 0.        , 0.        , 0.        , 0.        ,\n",
       "        0.        , 0.        , 0.        , 0.        , 0.        ,\n",
       "        0.        , 0.        , 0.36485966, 0.        , 0.        ,\n",
       "        0.        , 0.        , 0.        , 0.        , 0.        ,\n",
       "        0.        , 0.        , 0.        , 0.        , 0.        ,\n",
       "        0.        , 0.        , 0.        , 0.30578087, 0.        ,\n",
       "        0.        , 0.        , 0.        , 0.        , 0.30578087,\n",
       "        0.        , 0.        , 0.        , 0.        , 0.        ,\n",
       "        0.        , 0.        , 0.        , 0.        , 0.        ,\n",
       "        0.        , 0.        , 0.        , 0.30578087, 0.36485966,\n",
       "        0.        , 0.36485966],\n",
       "       [0.        , 0.        , 0.        , 0.        , 0.        ,\n",
       "        0.        , 0.        , 0.        , 0.        , 0.        ,\n",
       "        0.        , 0.        , 0.        , 0.        , 0.        ,\n",
       "        0.        , 0.        , 0.35929196, 0.35929196, 0.        ,\n",
       "        0.        , 0.30111471, 0.        , 0.        , 0.        ,\n",
       "        0.        , 0.        , 0.        , 0.        , 0.        ,\n",
       "        0.        , 0.        , 0.        , 0.        , 0.        ,\n",
       "        0.        , 0.        , 0.30111471, 0.        , 0.        ,\n",
       "        0.        , 0.        , 0.        , 0.        , 0.        ,\n",
       "        0.35929196, 0.        , 0.        , 0.        , 0.        ,\n",
       "        0.        , 0.        , 0.        , 0.17954206, 0.        ,\n",
       "        0.51967457, 0.35929196, 0.        , 0.        , 0.        ,\n",
       "        0.        , 0.        ],\n",
       "       [0.        , 0.        , 0.        , 0.        , 0.30250634,\n",
       "        0.        , 0.        , 0.        , 0.        , 0.        ,\n",
       "        0.        , 0.        , 0.        , 0.        , 0.30250634,\n",
       "        0.        , 0.        , 0.        , 0.        , 0.        ,\n",
       "        0.        , 0.        , 0.        , 0.30250634, 0.30250634,\n",
       "        0.        , 0.        , 0.25352392, 0.        , 0.        ,\n",
       "        0.25352392, 0.        , 0.        , 0.        , 0.        ,\n",
       "        0.        , 0.        , 0.        , 0.        , 0.        ,\n",
       "        0.        , 0.        , 0.        , 0.30250634, 0.        ,\n",
       "        0.        , 0.        , 0.30250634, 0.        , 0.30250634,\n",
       "        0.        , 0.        , 0.30250634, 0.        , 0.        ,\n",
       "        0.21877034, 0.        , 0.        , 0.        , 0.        ,\n",
       "        0.30250634, 0.        ],\n",
       "       [0.        , 0.        , 0.        , 0.        , 0.        ,\n",
       "        0.28925319, 0.28925319, 0.        , 0.        , 0.        ,\n",
       "        0.        , 0.        , 0.28925319, 0.        , 0.        ,\n",
       "        0.28925319, 0.        , 0.        , 0.        , 0.28925319,\n",
       "        0.        , 0.        , 0.        , 0.        , 0.        ,\n",
       "        0.        , 0.        , 0.        , 0.        , 0.        ,\n",
       "        0.24241674, 0.        , 0.        , 0.28925319, 0.28925319,\n",
       "        0.        , 0.28925319, 0.        , 0.        , 0.        ,\n",
       "        0.        , 0.28925319, 0.        , 0.        , 0.        ,\n",
       "        0.        , 0.        , 0.        , 0.        , 0.        ,\n",
       "        0.28925319, 0.        , 0.        , 0.14454293, 0.28925319,\n",
       "        0.        , 0.        , 0.        , 0.        , 0.        ,\n",
       "        0.        , 0.        ],\n",
       "       [0.        , 0.        , 0.        , 0.        , 0.        ,\n",
       "        0.        , 0.        , 0.        , 0.        , 0.        ,\n",
       "        0.        , 0.        , 0.        , 0.34592271, 0.        ,\n",
       "        0.        , 0.        , 0.        , 0.        , 0.        ,\n",
       "        0.        , 0.        , 0.        , 0.        , 0.        ,\n",
       "        0.        , 0.34592271, 0.        , 0.        , 0.        ,\n",
       "        0.        , 0.        , 0.        , 0.        , 0.        ,\n",
       "        0.        , 0.        , 0.        , 0.28991023, 0.        ,\n",
       "        0.        , 0.        , 0.69184543, 0.        , 0.28991023,\n",
       "        0.        , 0.        , 0.        , 0.        , 0.        ,\n",
       "        0.        , 0.        , 0.        , 0.1728613 , 0.        ,\n",
       "        0.        , 0.        , 0.        , 0.28991023, 0.        ,\n",
       "        0.        , 0.        ]])"
      ]
     },
     "execution_count": 46,
     "metadata": {},
     "output_type": "execute_result"
    }
   ],
   "source": [
    "x"
   ]
  },
  {
   "cell_type": "code",
   "execution_count": null,
   "metadata": {},
   "outputs": [],
   "source": []
  },
  {
   "cell_type": "markdown",
   "metadata": {},
   "source": [
    "# <u>Word2Vec</u>"
   ]
  },
  {
   "cell_type": "markdown",
   "metadata": {},
   "source": [
    "1. In BOW we saw each word has either 0 or 1.\n",
    "2. In TF-IDF we saw each word is given from 0 to 1.\n",
    "\n",
    "in both methods each word is represented with single values\n",
    "\n",
    "but in Word2Vec each word is represented with 32 dimnsional vector."
   ]
  },
  {
   "cell_type": "code",
   "execution_count": 32,
   "metadata": {},
   "outputs": [
    {
     "name": "stdout",
     "output_type": "stream",
     "text": [
      "[['good', 'boy', '.'], ['good', 'girl', '.'], ['boy', 'girl', 'good']]\n"
     ]
    },
    {
     "data": {
      "text/plain": [
       "{'good': <gensim.models.keyedvectors.Vocab at 0x233daf1ce10>,\n",
       " 'boy': <gensim.models.keyedvectors.Vocab at 0x233daf1c9b0>,\n",
       " '.': <gensim.models.keyedvectors.Vocab at 0x233daf1ca58>,\n",
       " 'girl': <gensim.models.keyedvectors.Vocab at 0x233daf1c780>}"
      ]
     },
     "execution_count": 32,
     "metadata": {},
     "output_type": "execute_result"
    }
   ],
   "source": [
    "para='he is good boy. she is good girl. boy and girl are good'\n",
    "\n",
    "import nltk\n",
    "from nltk.corpus import stopwords\n",
    "from nltk.stem import PorterStemmer\n",
    "\n",
    "stemmer=PorterStemmer()\n",
    "\n",
    "sentences=nltk.sent_tokenize(para)\n",
    "\n",
    "corpus=[]\n",
    "for i in range(len(sentences)):\n",
    "    words=nltk.word_tokenize(sentences[i])\n",
    "    words=[stemmer.stem(word) for word in words if word not in stopwords.words('english')]\n",
    "    \n",
    "    corpus.append(words)\n",
    "\n",
    "print(corpus)\n",
    "\n",
    "from gensim.models import Word2Vec\n",
    "model=Word2Vec(corpus,min_count=0)\n",
    "\n",
    "words=model.wv.vocab\n",
    "words"
   ]
  },
  {
   "cell_type": "code",
   "execution_count": 24,
   "metadata": {},
   "outputs": [],
   "source": [
    "# import libraries\n",
    "import nltk\n",
    "import re\n",
    "\n",
    "\n",
    "from nltk.corpus import stopwords\n"
   ]
  },
  {
   "cell_type": "code",
   "execution_count": 25,
   "metadata": {},
   "outputs": [],
   "source": [
    "paragraph='''I have three visions for India. In 3000 years of our history, people from all over \n",
    "               the world have come and invaded us, captured our lands, conquered our minds. \n",
    "               From Alexander onwards, the Greeks, the Turks, the Moguls, the Portuguese, the British,\n",
    "               the French, the Dutch, all of them came and looted us, took over what was ours. \n",
    "               Yet we have not done this to any other nation. We have not conquered anyone. \n",
    "               We have not grabbed their land, their culture, \n",
    "               their history and tried to enforce our way of life on them. \n",
    "               Why? Because we respect the freedom of others.That is why my \n",
    "               first vision is that of freedom. I believe that India got its first vision of \n",
    "               this in 1857, when we started the War of Independence. It is this freedom that\n",
    "               we must protect and nurture and build on. If we are not free, no one will respect us.\n",
    "               My second vision for India’s development. For fifty years we have been a developing nation.\n",
    "               It is time we see ourselves as a developed nation. We are among the top 5 nations of the world\n",
    "               in terms of GDP. We have a 10 percent growth rate in most areas. Our poverty levels are falling.\n",
    "               Our achievements are being globally recognised today. Yet we lack the self-confidence to\n",
    "               see ourselves as a developed nation, self-reliant and self-assured. Isn’t this incorrect?\n",
    "               I have a third vision. India must stand up to the world. Because I believe that unless India \n",
    "               stands up to the world, no one will respect us. Only strength respects strength. We must be \n",
    "               strong not only as a military power but also as an economic power. Both must go hand-in-hand. \n",
    "               My good fortune was to have worked with three great minds. Dr. Vikram Sarabhai of the Dept. of \n",
    "               space, Professor Satish Dhawan, who succeeded him and Dr. Brahm Prakash, father of nuclear material.\n",
    "               I was lucky to have worked with all three of them closely and consider this the great opportunity of my life. \n",
    "               I see four milestones in my career'''"
   ]
  },
  {
   "cell_type": "code",
   "execution_count": 26,
   "metadata": {},
   "outputs": [],
   "source": [
    "# preprocessing the data\n",
    "text=re.sub(r'\\[[0-9]*',' ',paragraph)\n",
    "text=re.sub(r'\\s+',' ',text)\n",
    "text=text.lower()\n",
    "text=re.sub(r'\\d',' ',text)\n",
    "text=re.sub(r'\\s+',' ',text)"
   ]
  },
  {
   "cell_type": "code",
   "execution_count": 27,
   "metadata": {},
   "outputs": [],
   "source": [
    "sentences=nltk.sent_tokenize(text)"
   ]
  },
  {
   "cell_type": "code",
   "execution_count": 28,
   "metadata": {},
   "outputs": [],
   "source": [
    "sentences=[nltk.word_tokenize(sentence) for sentence in sentences]"
   ]
  },
  {
   "cell_type": "code",
   "execution_count": 30,
   "metadata": {},
   "outputs": [],
   "source": [
    "for i in range(len(sentences)):\n",
    "    sentences[i]=[word for word in sentences[i] if word not in stopwords.words('english')]\n",
    "    "
   ]
  },
  {
   "cell_type": "code",
   "execution_count": 31,
   "metadata": {},
   "outputs": [
    {
     "data": {
      "text/plain": [
       "[['three', 'visions', 'india', '.'],\n",
       " ['years',\n",
       "  'history',\n",
       "  ',',\n",
       "  'people',\n",
       "  'world',\n",
       "  'come',\n",
       "  'invaded',\n",
       "  'us',\n",
       "  ',',\n",
       "  'captured',\n",
       "  'lands',\n",
       "  ',',\n",
       "  'conquered',\n",
       "  'minds',\n",
       "  '.'],\n",
       " ['alexander',\n",
       "  'onwards',\n",
       "  ',',\n",
       "  'greeks',\n",
       "  ',',\n",
       "  'turks',\n",
       "  ',',\n",
       "  'moguls',\n",
       "  ',',\n",
       "  'portuguese',\n",
       "  ',',\n",
       "  'british',\n",
       "  ',',\n",
       "  'french',\n",
       "  ',',\n",
       "  'dutch',\n",
       "  ',',\n",
       "  'came',\n",
       "  'looted',\n",
       "  'us',\n",
       "  ',',\n",
       "  'took',\n",
       "  '.'],\n",
       " ['yet', 'done', 'nation', '.'],\n",
       " ['conquered', 'anyone', '.'],\n",
       " ['grabbed',\n",
       "  'land',\n",
       "  ',',\n",
       "  'culture',\n",
       "  ',',\n",
       "  'history',\n",
       "  'tried',\n",
       "  'enforce',\n",
       "  'way',\n",
       "  'life',\n",
       "  '.'],\n",
       " ['?'],\n",
       " ['respect', 'freedom', 'others.that', 'first', 'vision', 'freedom', '.'],\n",
       " ['believe',\n",
       "  'india',\n",
       "  'got',\n",
       "  'first',\n",
       "  'vision',\n",
       "  ',',\n",
       "  'started',\n",
       "  'war',\n",
       "  'independence',\n",
       "  '.'],\n",
       " ['freedom', 'must', 'protect', 'nurture', 'build', '.'],\n",
       " ['free', ',', 'one', 'respect', 'us', '.'],\n",
       " ['second', 'vision', 'india', '’', 'development', '.'],\n",
       " ['fifty', 'years', 'developing', 'nation', '.'],\n",
       " ['time', 'see', 'developed', 'nation', '.'],\n",
       " ['among', 'top', 'nations', 'world', 'terms', 'gdp', '.'],\n",
       " ['percent', 'growth', 'rate', 'areas', '.'],\n",
       " ['poverty', 'levels', 'falling', '.'],\n",
       " ['achievements', 'globally', 'recognised', 'today', '.'],\n",
       " ['yet',\n",
       "  'lack',\n",
       "  'self-confidence',\n",
       "  'see',\n",
       "  'developed',\n",
       "  'nation',\n",
       "  ',',\n",
       "  'self-reliant',\n",
       "  'self-assured',\n",
       "  '.'],\n",
       " ['’', 'incorrect', '?'],\n",
       " ['third', 'vision', '.'],\n",
       " ['india', 'must', 'stand', 'world', '.'],\n",
       " ['believe',\n",
       "  'unless',\n",
       "  'india',\n",
       "  'stands',\n",
       "  'world',\n",
       "  ',',\n",
       "  'one',\n",
       "  'respect',\n",
       "  'us',\n",
       "  '.'],\n",
       " ['strength', 'respects', 'strength', '.'],\n",
       " ['must', 'strong', 'military', 'power', 'also', 'economic', 'power', '.'],\n",
       " ['must', 'go', 'hand-in-hand', '.'],\n",
       " ['good', 'fortune', 'worked', 'three', 'great', 'minds', '.'],\n",
       " ['dr.', 'vikram', 'sarabhai', 'dept', '.'],\n",
       " ['space',\n",
       "  ',',\n",
       "  'professor',\n",
       "  'satish',\n",
       "  'dhawan',\n",
       "  ',',\n",
       "  'succeeded',\n",
       "  'dr.',\n",
       "  'brahm',\n",
       "  'prakash',\n",
       "  ',',\n",
       "  'father',\n",
       "  'nuclear',\n",
       "  'material',\n",
       "  '.'],\n",
       " ['lucky',\n",
       "  'worked',\n",
       "  'three',\n",
       "  'closely',\n",
       "  'consider',\n",
       "  'great',\n",
       "  'opportunity',\n",
       "  'life',\n",
       "  '.'],\n",
       " ['see', 'four', 'milestones', 'career']]"
      ]
     },
     "execution_count": 31,
     "metadata": {},
     "output_type": "execute_result"
    }
   ],
   "source": [
    "sentences"
   ]
  },
  {
   "cell_type": "code",
   "execution_count": 54,
   "metadata": {},
   "outputs": [],
   "source": [
    "#train Word2Vec Model #min-count=1, apply for word if atleast present once\n",
    "from gensim.models import Word2Vec\n",
    "model=Word2Vec(sentences,min_count=1)"
   ]
  },
  {
   "cell_type": "code",
   "execution_count": 59,
   "metadata": {},
   "outputs": [],
   "source": [
    "# find the vocab in the model, store in words\n",
    "words=model.wv.vocab\n"
   ]
  },
  {
   "cell_type": "code",
   "execution_count": 62,
   "metadata": {},
   "outputs": [
    {
     "data": {
      "text/plain": [
       "array([ 2.2333662e-03,  4.0554218e-03,  2.9714564e-03,  2.5386815e-03,\n",
       "        2.0251840e-03,  3.4928476e-03, -3.8467164e-03,  4.8121708e-03,\n",
       "        4.8272838e-03, -2.3537742e-03, -4.1893837e-03, -4.0246309e-03,\n",
       "       -4.4893180e-03,  3.9387196e-03, -9.6939487e-04, -4.4816504e-03,\n",
       "       -4.6002320e-03, -8.6209760e-04, -7.7159348e-04, -3.4298801e-03,\n",
       "       -3.5179355e-03,  1.8712383e-03, -1.3441221e-03, -3.9352668e-03,\n",
       "        2.3107065e-03, -4.8225601e-03,  4.8001599e-03,  3.7256004e-03,\n",
       "       -9.3682851e-05,  9.9803240e-04, -4.2556976e-03,  3.7732825e-03,\n",
       "        1.7162436e-03,  1.7570029e-03,  2.1665988e-03,  4.0168273e-03,\n",
       "        1.4137225e-04,  1.2123591e-03,  1.5201174e-03,  4.8212386e-03,\n",
       "        1.3558537e-03,  4.4974899e-03, -1.3813633e-03,  7.8017509e-04,\n",
       "       -2.8697513e-03, -2.5536155e-03, -3.5474743e-03,  3.2168992e-03,\n",
       "        6.4519874e-04,  3.7919247e-04,  3.6188206e-03,  3.6950600e-03,\n",
       "       -3.1139422e-03, -4.6419869e-03, -1.2742330e-03,  2.8048418e-03,\n",
       "       -4.2064073e-03,  1.6804815e-03,  1.3153383e-03,  1.5644269e-03,\n",
       "       -1.3743598e-03, -3.9488338e-03,  1.9460217e-03,  4.2289873e-03,\n",
       "       -3.4364653e-03,  3.5971466e-03,  1.3441112e-03,  3.3335208e-03,\n",
       "        3.9199772e-03, -2.6160728e-03,  4.4762976e-03, -3.7489302e-04,\n",
       "       -2.5983977e-03,  4.8236735e-03,  3.1657598e-03,  3.5916532e-03,\n",
       "       -4.5876754e-03, -4.1246014e-03,  2.3677365e-03, -1.8054140e-03,\n",
       "       -1.7089815e-03,  6.8822707e-04, -3.4683771e-03, -3.6382426e-03,\n",
       "        3.7696335e-04,  2.2818404e-03, -1.7274159e-03, -3.2541491e-04,\n",
       "       -4.2350441e-03,  9.9889364e-04,  3.1204482e-03, -3.1262592e-03,\n",
       "       -2.8594325e-03,  1.7376175e-03, -3.0432986e-03, -2.3358452e-04,\n",
       "        1.6686168e-03,  2.3635053e-03,  1.5139456e-03, -7.6559192e-04],\n",
       "      dtype=float32)"
      ]
     },
     "execution_count": 62,
     "metadata": {},
     "output_type": "execute_result"
    }
   ],
   "source": [
    "#lets check the vector of some vector\n",
    "vector=model.wv['freedom']\n",
    "vector"
   ]
  },
  {
   "cell_type": "code",
   "execution_count": 63,
   "metadata": {},
   "outputs": [
    {
     "data": {
      "text/plain": [
       "[('dutch', 0.28341782093048096),\n",
       " ('must', 0.2393011599779129),\n",
       " ('?', 0.21715804934501648),\n",
       " ('lucky', 0.20652517676353455),\n",
       " ('us', 0.20052877068519592),\n",
       " ('poverty', 0.1840810775756836),\n",
       " ('hand-in-hand', 0.17312967777252197),\n",
       " ('land', 0.14251002669334412),\n",
       " ('fifty', 0.14172068238258362),\n",
       " ('culture', 0.13595736026763916)]"
      ]
     },
     "execution_count": 63,
     "metadata": {},
     "output_type": "execute_result"
    }
   ],
   "source": [
    "#most similar word related to word 'war' in that paragraph\n",
    "similar=model.wv.most_similar('freedom')\n",
    "similar"
   ]
  },
  {
   "cell_type": "code",
   "execution_count": null,
   "metadata": {},
   "outputs": [],
   "source": []
  }
 ],
 "metadata": {
  "kernelspec": {
   "display_name": "Python 3",
   "language": "python",
   "name": "python3"
  },
  "language_info": {
   "codemirror_mode": {
    "name": "ipython",
    "version": 3
   },
   "file_extension": ".py",
   "mimetype": "text/x-python",
   "name": "python",
   "nbconvert_exporter": "python",
   "pygments_lexer": "ipython3",
   "version": "3.7.3"
  }
 },
 "nbformat": 4,
 "nbformat_minor": 4
}
