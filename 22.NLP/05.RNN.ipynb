{
 "cells": [
  {
   "cell_type": "markdown",
   "metadata": {},
   "source": [
    "# <u> RNN with Forward Propogation with TIME</u>"
   ]
  },
  {
   "cell_type": "markdown",
   "metadata": {},
   "source": [
    "<img src='rnnfp.png'>"
   ]
  },
  {
   "cell_type": "markdown",
   "metadata": {},
   "source": [
    "# <u> RNN with Back Propogation with TIME </u>"
   ]
  },
  {
   "cell_type": "markdown",
   "metadata": {},
   "source": [
    "<img src='rnnbp.png'>\n",
    "\n",
    "- weights will be updated in back propogation"
   ]
  },
  {
   "cell_type": "markdown",
   "metadata": {},
   "source": [
    "# <u> Problems in RNN</u>"
   ]
  },
  {
   "cell_type": "markdown",
   "metadata": {},
   "source": [
    "- vanishing gradient problem:\n",
    "    - if we take sigmoid activation function, for derivate we get values between 0 and 1.\n",
    "    - in backpropagation, as we go back towards first the value of change of W will be very very small.\n",
    "    - <img src='vg.png'>\n",
    "    - we will never global minima\n",
    "    \n",
    "    \n",
    "- Exploding Gradient problem:\n",
    "    - if we take Relu problem, it will be exploding gradient problem\n",
    "    - <img src='eg.png'>\n",
    "    - we will never reach global minima"
   ]
  },
  {
   "cell_type": "code",
   "execution_count": null,
   "metadata": {},
   "outputs": [],
   "source": []
  }
 ],
 "metadata": {
  "kernelspec": {
   "display_name": "Python 3",
   "language": "python",
   "name": "python3"
  },
  "language_info": {
   "codemirror_mode": {
    "name": "ipython",
    "version": 3
   },
   "file_extension": ".py",
   "mimetype": "text/x-python",
   "name": "python",
   "nbconvert_exporter": "python",
   "pygments_lexer": "ipython3",
   "version": "3.7.3"
  }
 },
 "nbformat": 4,
 "nbformat_minor": 4
}
