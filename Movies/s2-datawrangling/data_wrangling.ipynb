{
 "cells": [
  {
   "cell_type": "code",
   "execution_count": 5,
   "metadata": {},
   "outputs": [],
   "source": [
    "import numpy as np\n",
    "import pandas as pd"
   ]
  },
  {
   "cell_type": "markdown",
   "metadata": {},
   "source": [
    "# Loading the dataset"
   ]
  },
  {
   "cell_type": "code",
   "execution_count": 6,
   "metadata": {},
   "outputs": [
    {
     "data": {
      "text/html": [
       "<div>\n",
       "<style scoped>\n",
       "    .dataframe tbody tr th:only-of-type {\n",
       "        vertical-align: middle;\n",
       "    }\n",
       "\n",
       "    .dataframe tbody tr th {\n",
       "        vertical-align: top;\n",
       "    }\n",
       "\n",
       "    .dataframe thead th {\n",
       "        text-align: right;\n",
       "    }\n",
       "</style>\n",
       "<table border=\"1\" class=\"dataframe\">\n",
       "  <thead>\n",
       "    <tr style=\"text-align: right;\">\n",
       "      <th></th>\n",
       "      <th>0</th>\n",
       "      <th>1</th>\n",
       "      <th>2</th>\n",
       "      <th>3</th>\n",
       "      <th>4</th>\n",
       "    </tr>\n",
       "  </thead>\n",
       "  <tbody>\n",
       "    <tr>\n",
       "      <th>adult</th>\n",
       "      <td>False</td>\n",
       "      <td>False</td>\n",
       "      <td>False</td>\n",
       "      <td>False</td>\n",
       "      <td>False</td>\n",
       "    </tr>\n",
       "    <tr>\n",
       "      <th>backdrop_path</th>\n",
       "      <td>/lxD5ak7BOoinRNehOCA85CQ8ubr.jpg</td>\n",
       "      <td>/y7SQmjlB42VvYyRIFQXLQ4ZYrn.jpg</td>\n",
       "      <td>/1J4Z7VhdAgtdd97nCxY7dcBpjGT.jpg</td>\n",
       "      <td>/yibpm3qFap62p92GL2mP71cevS9.jpg</td>\n",
       "      <td>/5rPY0WtseHhtSMZt8kxfgU2rsZp.jpg</td>\n",
       "    </tr>\n",
       "    <tr>\n",
       "      <th>belongs_to_collection</th>\n",
       "      <td>{'name': 'Toy Story Collection', 'poster_path'...</td>\n",
       "      <td>{'name': 'Jumanji Collection', 'poster_path': ...</td>\n",
       "      <td>{'name': 'Grumpy Old Men Collection', 'poster_...</td>\n",
       "      <td>NaN</td>\n",
       "      <td>{'name': 'Father of the Bride Collection', 'po...</td>\n",
       "    </tr>\n",
       "    <tr>\n",
       "      <th>budget</th>\n",
       "      <td>30000000</td>\n",
       "      <td>65000000</td>\n",
       "      <td>0</td>\n",
       "      <td>16000000</td>\n",
       "      <td>0</td>\n",
       "    </tr>\n",
       "    <tr>\n",
       "      <th>genres</th>\n",
       "      <td>[{'name': 'Animation', 'id': 16}, {'name': 'Co...</td>\n",
       "      <td>[{'name': 'Adventure', 'id': 12}, {'name': 'Fa...</td>\n",
       "      <td>[{'name': 'Romance', 'id': 10749}, {'name': 'C...</td>\n",
       "      <td>[{'name': 'Comedy', 'id': 35}, {'name': 'Drama...</td>\n",
       "      <td>[{'name': 'Comedy', 'id': 35}]</td>\n",
       "    </tr>\n",
       "    <tr>\n",
       "      <th>homepage</th>\n",
       "      <td>http://toystory.disney.com/toy-story</td>\n",
       "      <td>http://www.sonypictures.com/movies/jumanji/</td>\n",
       "      <td>NaN</td>\n",
       "      <td>NaN</td>\n",
       "      <td>NaN</td>\n",
       "    </tr>\n",
       "    <tr>\n",
       "      <th>id</th>\n",
       "      <td>862</td>\n",
       "      <td>8844</td>\n",
       "      <td>15602</td>\n",
       "      <td>31357</td>\n",
       "      <td>11862</td>\n",
       "    </tr>\n",
       "    <tr>\n",
       "      <th>imdb_id</th>\n",
       "      <td>tt0114709</td>\n",
       "      <td>tt0113497</td>\n",
       "      <td>tt0113228</td>\n",
       "      <td>tt0114885</td>\n",
       "      <td>tt0113041</td>\n",
       "    </tr>\n",
       "    <tr>\n",
       "      <th>original_language</th>\n",
       "      <td>en</td>\n",
       "      <td>en</td>\n",
       "      <td>en</td>\n",
       "      <td>en</td>\n",
       "      <td>en</td>\n",
       "    </tr>\n",
       "    <tr>\n",
       "      <th>original_title</th>\n",
       "      <td>Toy Story</td>\n",
       "      <td>Jumanji</td>\n",
       "      <td>Grumpier Old Men</td>\n",
       "      <td>Waiting to Exhale</td>\n",
       "      <td>Father of the Bride Part II</td>\n",
       "    </tr>\n",
       "    <tr>\n",
       "      <th>overview</th>\n",
       "      <td>Led by Woody, Andy's toys live happily in his ...</td>\n",
       "      <td>When siblings Judy and Peter discover an encha...</td>\n",
       "      <td>A family wedding reignites the ancient feud be...</td>\n",
       "      <td>Cheated on, mistreated and stepped on, the wom...</td>\n",
       "      <td>Just when George Banks has recovered from his ...</td>\n",
       "    </tr>\n",
       "    <tr>\n",
       "      <th>popularity</th>\n",
       "      <td>52.706</td>\n",
       "      <td>8.122</td>\n",
       "      <td>9.838</td>\n",
       "      <td>6.378</td>\n",
       "      <td>14.706</td>\n",
       "    </tr>\n",
       "    <tr>\n",
       "      <th>poster_path</th>\n",
       "      <td>/uXDfjJbdP4ijW5hWSBrPrlKpxab.jpg</td>\n",
       "      <td>/bdHG5Mo83VPobeZZdlSz0Y7HQHB.jpg</td>\n",
       "      <td>/1FSXpj5e8l4KH6nVFO5SPUeraOt.jpg</td>\n",
       "      <td>/4wjGMwPsdlvi025ZqR4rXnFDvBz.jpg</td>\n",
       "      <td>/lf9RTErt8BSLQy98aSFblElvsCQ.jpg</td>\n",
       "    </tr>\n",
       "    <tr>\n",
       "      <th>production_companies</th>\n",
       "      <td>[{'name': 'Pixar', 'origin_country': 'US', 'id...</td>\n",
       "      <td>[{'name': 'TriStar Pictures', 'origin_country'...</td>\n",
       "      <td>[{'name': 'Lancaster Gate', 'origin_country': ...</td>\n",
       "      <td>[{'name': '20th Century Fox', 'origin_country'...</td>\n",
       "      <td>[{'name': 'Touchstone Pictures', 'origin_count...</td>\n",
       "    </tr>\n",
       "    <tr>\n",
       "      <th>production_countries</th>\n",
       "      <td>[{'iso_3166_1': 'US', 'name': 'United States o...</td>\n",
       "      <td>[{'iso_3166_1': 'US', 'name': 'United States o...</td>\n",
       "      <td>[{'iso_3166_1': 'US', 'name': 'United States o...</td>\n",
       "      <td>[{'iso_3166_1': 'US', 'name': 'United States o...</td>\n",
       "      <td>[{'iso_3166_1': 'US', 'name': 'United States o...</td>\n",
       "    </tr>\n",
       "    <tr>\n",
       "      <th>release_date</th>\n",
       "      <td>1995-10-30</td>\n",
       "      <td>1995-12-15</td>\n",
       "      <td>1995-12-22</td>\n",
       "      <td>1995-12-22</td>\n",
       "      <td>1995-12-08</td>\n",
       "    </tr>\n",
       "    <tr>\n",
       "      <th>revenue</th>\n",
       "      <td>373554033</td>\n",
       "      <td>262797249</td>\n",
       "      <td>0</td>\n",
       "      <td>81452156</td>\n",
       "      <td>76578911</td>\n",
       "    </tr>\n",
       "    <tr>\n",
       "      <th>runtime</th>\n",
       "      <td>81</td>\n",
       "      <td>104</td>\n",
       "      <td>101</td>\n",
       "      <td>127</td>\n",
       "      <td>106</td>\n",
       "    </tr>\n",
       "    <tr>\n",
       "      <th>spoken_languages</th>\n",
       "      <td>[{'iso_639_1': 'en', 'name': 'English'}]</td>\n",
       "      <td>[{'iso_639_1': 'en', 'name': 'English'}, {'iso...</td>\n",
       "      <td>[{'iso_639_1': 'en', 'name': 'English'}]</td>\n",
       "      <td>[{'iso_639_1': 'en', 'name': 'English'}]</td>\n",
       "      <td>[{'iso_639_1': 'en', 'name': 'English'}]</td>\n",
       "    </tr>\n",
       "    <tr>\n",
       "      <th>status</th>\n",
       "      <td>Released</td>\n",
       "      <td>Released</td>\n",
       "      <td>Released</td>\n",
       "      <td>Released</td>\n",
       "      <td>Released</td>\n",
       "    </tr>\n",
       "    <tr>\n",
       "      <th>tagline</th>\n",
       "      <td>NaN</td>\n",
       "      <td>Roll the dice and unleash the excitement!</td>\n",
       "      <td>Still Yelling. Still Fighting. Still Ready for...</td>\n",
       "      <td>Friends are the people who let you be yourself...</td>\n",
       "      <td>Just When His World Is Back To Normal... He's ...</td>\n",
       "    </tr>\n",
       "    <tr>\n",
       "      <th>title</th>\n",
       "      <td>Toy Story</td>\n",
       "      <td>Jumanji</td>\n",
       "      <td>Grumpier Old Men</td>\n",
       "      <td>Waiting to Exhale</td>\n",
       "      <td>Father of the Bride Part II</td>\n",
       "    </tr>\n",
       "    <tr>\n",
       "      <th>video</th>\n",
       "      <td>False</td>\n",
       "      <td>False</td>\n",
       "      <td>False</td>\n",
       "      <td>False</td>\n",
       "      <td>False</td>\n",
       "    </tr>\n",
       "    <tr>\n",
       "      <th>vote_average</th>\n",
       "      <td>7.9</td>\n",
       "      <td>7.2</td>\n",
       "      <td>6.6</td>\n",
       "      <td>6.2</td>\n",
       "      <td>6.2</td>\n",
       "    </tr>\n",
       "    <tr>\n",
       "      <th>vote_count</th>\n",
       "      <td>12976</td>\n",
       "      <td>7583</td>\n",
       "      <td>212</td>\n",
       "      <td>78</td>\n",
       "      <td>435</td>\n",
       "    </tr>\n",
       "  </tbody>\n",
       "</table>\n",
       "</div>"
      ],
      "text/plain": [
       "                                                                       0  \\\n",
       "adult                                                              False   \n",
       "backdrop_path                           /lxD5ak7BOoinRNehOCA85CQ8ubr.jpg   \n",
       "belongs_to_collection  {'name': 'Toy Story Collection', 'poster_path'...   \n",
       "budget                                                          30000000   \n",
       "genres                 [{'name': 'Animation', 'id': 16}, {'name': 'Co...   \n",
       "homepage                            http://toystory.disney.com/toy-story   \n",
       "id                                                                   862   \n",
       "imdb_id                                                        tt0114709   \n",
       "original_language                                                     en   \n",
       "original_title                                                 Toy Story   \n",
       "overview               Led by Woody, Andy's toys live happily in his ...   \n",
       "popularity                                                        52.706   \n",
       "poster_path                             /uXDfjJbdP4ijW5hWSBrPrlKpxab.jpg   \n",
       "production_companies   [{'name': 'Pixar', 'origin_country': 'US', 'id...   \n",
       "production_countries   [{'iso_3166_1': 'US', 'name': 'United States o...   \n",
       "release_date                                                  1995-10-30   \n",
       "revenue                                                        373554033   \n",
       "runtime                                                               81   \n",
       "spoken_languages                [{'iso_639_1': 'en', 'name': 'English'}]   \n",
       "status                                                          Released   \n",
       "tagline                                                              NaN   \n",
       "title                                                          Toy Story   \n",
       "video                                                              False   \n",
       "vote_average                                                         7.9   \n",
       "vote_count                                                         12976   \n",
       "\n",
       "                                                                       1  \\\n",
       "adult                                                              False   \n",
       "backdrop_path                            /y7SQmjlB42VvYyRIFQXLQ4ZYrn.jpg   \n",
       "belongs_to_collection  {'name': 'Jumanji Collection', 'poster_path': ...   \n",
       "budget                                                          65000000   \n",
       "genres                 [{'name': 'Adventure', 'id': 12}, {'name': 'Fa...   \n",
       "homepage                     http://www.sonypictures.com/movies/jumanji/   \n",
       "id                                                                  8844   \n",
       "imdb_id                                                        tt0113497   \n",
       "original_language                                                     en   \n",
       "original_title                                                   Jumanji   \n",
       "overview               When siblings Judy and Peter discover an encha...   \n",
       "popularity                                                         8.122   \n",
       "poster_path                             /bdHG5Mo83VPobeZZdlSz0Y7HQHB.jpg   \n",
       "production_companies   [{'name': 'TriStar Pictures', 'origin_country'...   \n",
       "production_countries   [{'iso_3166_1': 'US', 'name': 'United States o...   \n",
       "release_date                                                  1995-12-15   \n",
       "revenue                                                        262797249   \n",
       "runtime                                                              104   \n",
       "spoken_languages       [{'iso_639_1': 'en', 'name': 'English'}, {'iso...   \n",
       "status                                                          Released   \n",
       "tagline                        Roll the dice and unleash the excitement!   \n",
       "title                                                            Jumanji   \n",
       "video                                                              False   \n",
       "vote_average                                                         7.2   \n",
       "vote_count                                                          7583   \n",
       "\n",
       "                                                                       2  \\\n",
       "adult                                                              False   \n",
       "backdrop_path                           /1J4Z7VhdAgtdd97nCxY7dcBpjGT.jpg   \n",
       "belongs_to_collection  {'name': 'Grumpy Old Men Collection', 'poster_...   \n",
       "budget                                                                 0   \n",
       "genres                 [{'name': 'Romance', 'id': 10749}, {'name': 'C...   \n",
       "homepage                                                             NaN   \n",
       "id                                                                 15602   \n",
       "imdb_id                                                        tt0113228   \n",
       "original_language                                                     en   \n",
       "original_title                                          Grumpier Old Men   \n",
       "overview               A family wedding reignites the ancient feud be...   \n",
       "popularity                                                         9.838   \n",
       "poster_path                             /1FSXpj5e8l4KH6nVFO5SPUeraOt.jpg   \n",
       "production_companies   [{'name': 'Lancaster Gate', 'origin_country': ...   \n",
       "production_countries   [{'iso_3166_1': 'US', 'name': 'United States o...   \n",
       "release_date                                                  1995-12-22   \n",
       "revenue                                                                0   \n",
       "runtime                                                              101   \n",
       "spoken_languages                [{'iso_639_1': 'en', 'name': 'English'}]   \n",
       "status                                                          Released   \n",
       "tagline                Still Yelling. Still Fighting. Still Ready for...   \n",
       "title                                                   Grumpier Old Men   \n",
       "video                                                              False   \n",
       "vote_average                                                         6.6   \n",
       "vote_count                                                           212   \n",
       "\n",
       "                                                                       3  \\\n",
       "adult                                                              False   \n",
       "backdrop_path                           /yibpm3qFap62p92GL2mP71cevS9.jpg   \n",
       "belongs_to_collection                                                NaN   \n",
       "budget                                                          16000000   \n",
       "genres                 [{'name': 'Comedy', 'id': 35}, {'name': 'Drama...   \n",
       "homepage                                                             NaN   \n",
       "id                                                                 31357   \n",
       "imdb_id                                                        tt0114885   \n",
       "original_language                                                     en   \n",
       "original_title                                         Waiting to Exhale   \n",
       "overview               Cheated on, mistreated and stepped on, the wom...   \n",
       "popularity                                                         6.378   \n",
       "poster_path                             /4wjGMwPsdlvi025ZqR4rXnFDvBz.jpg   \n",
       "production_companies   [{'name': '20th Century Fox', 'origin_country'...   \n",
       "production_countries   [{'iso_3166_1': 'US', 'name': 'United States o...   \n",
       "release_date                                                  1995-12-22   \n",
       "revenue                                                         81452156   \n",
       "runtime                                                              127   \n",
       "spoken_languages                [{'iso_639_1': 'en', 'name': 'English'}]   \n",
       "status                                                          Released   \n",
       "tagline                Friends are the people who let you be yourself...   \n",
       "title                                                  Waiting to Exhale   \n",
       "video                                                              False   \n",
       "vote_average                                                         6.2   \n",
       "vote_count                                                            78   \n",
       "\n",
       "                                                                       4  \n",
       "adult                                                              False  \n",
       "backdrop_path                           /5rPY0WtseHhtSMZt8kxfgU2rsZp.jpg  \n",
       "belongs_to_collection  {'name': 'Father of the Bride Collection', 'po...  \n",
       "budget                                                                 0  \n",
       "genres                                    [{'name': 'Comedy', 'id': 35}]  \n",
       "homepage                                                             NaN  \n",
       "id                                                                 11862  \n",
       "imdb_id                                                        tt0113041  \n",
       "original_language                                                     en  \n",
       "original_title                               Father of the Bride Part II  \n",
       "overview               Just when George Banks has recovered from his ...  \n",
       "popularity                                                        14.706  \n",
       "poster_path                             /lf9RTErt8BSLQy98aSFblElvsCQ.jpg  \n",
       "production_companies   [{'name': 'Touchstone Pictures', 'origin_count...  \n",
       "production_countries   [{'iso_3166_1': 'US', 'name': 'United States o...  \n",
       "release_date                                                  1995-12-08  \n",
       "revenue                                                         76578911  \n",
       "runtime                                                              106  \n",
       "spoken_languages                [{'iso_639_1': 'en', 'name': 'English'}]  \n",
       "status                                                          Released  \n",
       "tagline                Just When His World Is Back To Normal... He's ...  \n",
       "title                                        Father of the Bride Part II  \n",
       "video                                                              False  \n",
       "vote_average                                                         6.2  \n",
       "vote_count                                                           435  "
      ]
     },
     "execution_count": 6,
     "metadata": {},
     "output_type": "execute_result"
    }
   ],
   "source": [
    "df=pd.read_csv('../data/movies_metadata.csv')\n",
    "df.head().transpose()"
   ]
  },
  {
   "cell_type": "markdown",
   "metadata": {},
   "source": [
    "# understanding the dataset\n",
    "The dataset above was obtained through the TMDB API. The movies available in this dataset are in correspondence with the movies that are listed in the MovieLens Latest Full Dataset comprising of 26 million ratings on 60,000 movies from 27,000 users. Let us have a look at the features that are available to us."
   ]
  },
  {
   "cell_type": "code",
   "execution_count": 7,
   "metadata": {},
   "outputs": [
    {
     "data": {
      "text/plain": [
       "Index(['adult', 'backdrop_path', 'belongs_to_collection', 'budget', 'genres',\n",
       "       'homepage', 'id', 'imdb_id', 'original_language', 'original_title',\n",
       "       'overview', 'popularity', 'poster_path', 'production_companies',\n",
       "       'production_countries', 'release_date', 'revenue', 'runtime',\n",
       "       'spoken_languages', 'status', 'tagline', 'title', 'video',\n",
       "       'vote_average', 'vote_count'],\n",
       "      dtype='object')"
      ]
     },
     "execution_count": 7,
     "metadata": {},
     "output_type": "execute_result"
    }
   ],
   "source": [
    "df.columns"
   ]
  },
  {
   "cell_type": "markdown",
   "metadata": {},
   "source": [
    "# features\n",
    "- adult: Indicates if the movie is X-Rated or Adult.\n",
    "- backdrop_path: Background image for the movie\n",
    "- belongs_to_collection: A stringified dictionary that gives information on the movie series the particular film belongs to.\n",
    "- budget: The budget of the movie in dollars.\n",
    "- genres: A stringified list of dictionaries that list out all the genres associated with the movie.\n",
    "- homepage: The Official Homepage of the move.\n",
    "- id: The ID of the move.\n",
    "- imdb_id: The IMDB ID of the movie.\n",
    "- original_language: The language in which the movie was originally shot in.\n",
    "- original_title: The original title of the movie.\n",
    "- overview: A brief blurb of the movie.\n",
    "- popularity: The Popularity Score assigned by TMDB.\n",
    "- poster_path: The URL of the poster image.\n",
    "- production_companies: A stringified list of production companies involved with the making of the movie.\n",
    "- production_countries: A stringified list of countries where the movie was shot/produced in.\n",
    "- release_date: Theatrical Release Date of the movie.\n",
    "- revenue: The total revenue of the movie in dollars.\n",
    "- runtime: The runtime of the movie in minutes.\n",
    "- spoken_languages: A stringified list of spoken languages in the film.\n",
    "- status: The status of the movie (Released, To Be Released, Announced, etc.)\n",
    "- tagline: The tagline of the movie.\n",
    "- title: The Official Title of the movie.\n",
    "- video: Indicates if there is a video present of the movie with TMDB.\n",
    "- vote_average: The average rating of the movie.\n",
    "- vote_count: The number of votes by users, as counted by TMDB."
   ]
  },
  {
   "cell_type": "code",
   "execution_count": 9,
   "metadata": {},
   "outputs": [
    {
     "data": {
      "text/plain": [
       "(61768, 25)"
      ]
     },
     "execution_count": 9,
     "metadata": {},
     "output_type": "execute_result"
    }
   ],
   "source": [
    "df.shape"
   ]
  },
  {
   "cell_type": "code",
   "execution_count": 10,
   "metadata": {},
   "outputs": [
    {
     "name": "stdout",
     "output_type": "stream",
     "text": [
      "<class 'pandas.core.frame.DataFrame'>\n",
      "RangeIndex: 61768 entries, 0 to 61767\n",
      "Data columns (total 25 columns):\n",
      " #   Column                 Non-Null Count  Dtype  \n",
      "---  ------                 --------------  -----  \n",
      " 0   adult                  61768 non-null  bool   \n",
      " 1   backdrop_path          39298 non-null  object \n",
      " 2   belongs_to_collection  5967 non-null   object \n",
      " 3   budget                 61768 non-null  int64  \n",
      " 4   genres                 61768 non-null  object \n",
      " 5   homepage               11259 non-null  object \n",
      " 6   id                     61768 non-null  int64  \n",
      " 7   imdb_id                61750 non-null  object \n",
      " 8   original_language      61768 non-null  object \n",
      " 9   original_title         61768 non-null  object \n",
      " 10  overview               60867 non-null  object \n",
      " 11  popularity             61768 non-null  float64\n",
      " 12  poster_path            55990 non-null  object \n",
      " 13  production_companies   61768 non-null  object \n",
      " 14  production_countries   61768 non-null  object \n",
      " 15  release_date           61702 non-null  object \n",
      " 16  revenue                61768 non-null  int64  \n",
      " 17  runtime                61591 non-null  float64\n",
      " 18  spoken_languages       61768 non-null  object \n",
      " 19  status                 61768 non-null  object \n",
      " 20  tagline                27305 non-null  object \n",
      " 21  title                  61768 non-null  object \n",
      " 22  video                  61768 non-null  bool   \n",
      " 23  vote_average           61768 non-null  float64\n",
      " 24  vote_count             61768 non-null  int64  \n",
      "dtypes: bool(2), float64(3), int64(4), object(16)\n",
      "memory usage: 11.0+ MB\n"
     ]
    }
   ],
   "source": [
    "df.info()"
   ]
  },
  {
   "cell_type": "markdown",
   "metadata": {},
   "source": [
    "There are a total of <b>61,768 movies</b> with <b>25</b> features. Most of the features have very few NaN values (apart from <b>homepage, backdrop_path, belongs_to_collection and tagline</b>). We will attempt at cleaning this dataset to a form suitable for analysis."
   ]
  },
  {
   "cell_type": "markdown",
   "metadata": {},
   "source": [
    "# Data cleaning\n",
    "The data that was originally obtained was in the form of a JSON File. This was converted manually into a CSV file to arrive at an input that could be loaded into a Pandas DataFrame effortlessly. In other words, the dataset we have in our hands is already relatively clean. We will however attempt at learning more about our features and performing appropriate wrangling steps to arrive at a form that is more suitable for analysis.\n",
    "\n",
    "Let us start by removing the features that are not useful to us."
   ]
  },
  {
   "cell_type": "code",
   "execution_count": 11,
   "metadata": {},
   "outputs": [],
   "source": [
    "df=df.drop(['backdrop_path'],axis=1)"
   ]
  },
  {
   "cell_type": "markdown",
   "metadata": {},
   "source": [
    "since, backdrop_path is just a image, we dont need it for our analysis\n",
    "\n",
    "lets have a look at feature title, original_title"
   ]
  },
  {
   "cell_type": "code",
   "execution_count": 12,
   "metadata": {},
   "outputs": [
    {
     "data": {
      "text/html": [
       "<div>\n",
       "<style scoped>\n",
       "    .dataframe tbody tr th:only-of-type {\n",
       "        vertical-align: middle;\n",
       "    }\n",
       "\n",
       "    .dataframe tbody tr th {\n",
       "        vertical-align: top;\n",
       "    }\n",
       "\n",
       "    .dataframe thead th {\n",
       "        text-align: right;\n",
       "    }\n",
       "</style>\n",
       "<table border=\"1\" class=\"dataframe\">\n",
       "  <thead>\n",
       "    <tr style=\"text-align: right;\">\n",
       "      <th></th>\n",
       "      <th>title</th>\n",
       "      <th>original_title</th>\n",
       "    </tr>\n",
       "  </thead>\n",
       "  <tbody>\n",
       "    <tr>\n",
       "      <th>46</th>\n",
       "      <td>The City of Lost Children</td>\n",
       "      <td>La Cité des Enfants Perdus</td>\n",
       "    </tr>\n",
       "    <tr>\n",
       "      <th>47</th>\n",
       "      <td>Shanghai Triad</td>\n",
       "      <td>摇啊摇，摇到外婆桥</td>\n",
       "    </tr>\n",
       "    <tr>\n",
       "      <th>50</th>\n",
       "      <td>Wings of Courage</td>\n",
       "      <td>Guillaumet, les ailes du courage</td>\n",
       "    </tr>\n",
       "    <tr>\n",
       "      <th>88</th>\n",
       "      <td>The City of Lost Children</td>\n",
       "      <td>La Cité des Enfants Perdus</td>\n",
       "    </tr>\n",
       "    <tr>\n",
       "      <th>89</th>\n",
       "      <td>Shanghai Triad</td>\n",
       "      <td>摇啊摇，摇到外婆桥</td>\n",
       "    </tr>\n",
       "  </tbody>\n",
       "</table>\n",
       "</div>"
      ],
      "text/plain": [
       "                        title                    original_title\n",
       "46  The City of Lost Children        La Cité des Enfants Perdus\n",
       "47             Shanghai Triad                         摇啊摇，摇到外婆桥\n",
       "50           Wings of Courage  Guillaumet, les ailes du courage\n",
       "88  The City of Lost Children        La Cité des Enfants Perdus\n",
       "89             Shanghai Triad                         摇啊摇，摇到外婆桥"
      ]
     },
     "execution_count": 12,
     "metadata": {},
     "output_type": "execute_result"
    }
   ],
   "source": [
    "df.loc[df['original_title']!=df['title'],['title','original_title']].head()"
   ]
  },
  {
   "cell_type": "markdown",
   "metadata": {},
   "source": [
    "The original title refers to the title of the movie in the native language in which the movie was shot. As such, I will prefer using the translated,we will drop the original titles feature. We will be able to deduce if the movie is a foreign language film by looking at the original_language feature so no tangible information is lost in doing so."
   ]
  },
  {
   "cell_type": "code",
   "execution_count": 13,
   "metadata": {},
   "outputs": [],
   "source": [
    "df=df.drop('original_title',axis=1)"
   ]
  },
  {
   "cell_type": "code",
   "execution_count": 15,
   "metadata": {},
   "outputs": [
    {
     "data": {
      "text/plain": [
       "0           52146\n",
       "12000000       26\n",
       "10000000       26\n",
       "11000000       25\n",
       "2000000        21\n",
       "            ...  \n",
       "45858563        1\n",
       "1476356         1\n",
       "16178959        1\n",
       "11417362        1\n",
       "48854305        1\n",
       "Name: revenue, Length: 8695, dtype: int64"
      ]
     },
     "execution_count": 15,
     "metadata": {},
     "output_type": "execute_result"
    }
   ],
   "source": [
    "df.revenue.value_counts()"
   ]
  },
  {
   "cell_type": "markdown",
   "metadata": {},
   "source": [
    "We see that the majority of the movies have a recorded revenue of 0. This indicates that we do not have information about the total revenue for these movies. Although this forms the majority of the movies available to us, we will still use revenue as an extremely important feature going forward from the remaining 7000 moves."
   ]
  },
  {
   "cell_type": "code",
   "execution_count": 16,
   "metadata": {},
   "outputs": [],
   "source": [
    "df['revenue'] = df['revenue'].replace(0, np.nan)"
   ]
  },
  {
   "cell_type": "code",
   "execution_count": 17,
   "metadata": {},
   "outputs": [
    {
     "data": {
      "text/plain": [
       "0           50579\n",
       "10000000      379\n",
       "5000000       325\n",
       "2000000       297\n",
       "3000000       280\n",
       "            ...  \n",
       "2515000         1\n",
       "10920000        1\n",
       "213084          1\n",
       "12434           1\n",
       "959300          1\n",
       "Name: budget, Length: 1708, dtype: int64"
      ]
     },
     "execution_count": 17,
     "metadata": {},
     "output_type": "execute_result"
    }
   ],
   "source": [
    "df['budget'].value_counts()"
   ]
  },
  {
   "cell_type": "code",
   "execution_count": 18,
   "metadata": {},
   "outputs": [],
   "source": [
    "df['budget'] = df['budget'].replace(0, np.nan)"
   ]
  },
  {
   "cell_type": "code",
   "execution_count": 28,
   "metadata": {},
   "outputs": [
    {
     "data": {
      "text/plain": [
       "50579"
      ]
     },
     "execution_count": 28,
     "metadata": {},
     "output_type": "execute_result"
    }
   ],
   "source": [
    "df.budget.isnull().sum()"
   ]
  },
  {
   "cell_type": "markdown",
   "metadata": {},
   "source": [
    "\n",
    "As we move forward trying to answer certain questions, we will have to construct several features suitable for that particular query. For now, we will construct two very important features:\n",
    "\n",
    "- <b>return:</b> The ratio of revenue to budget.\n",
    "- <b>year: </b> The year in which the movie was released.\n",
    "\n",
    "The return feature is extremely insightful as it will give us a more accurate picture of the financial success of a movie. Presently, our data will not be able to judge if a $200 million budget movie that earned $100 million did better than a $50,000 budget movie taking in $200,000. This feature will be able to capture that information.\n",
    "\n",
    "A return value > 1 would indicate profit whereas a return value < 1 would indicate a loss."
   ]
  },
  {
   "cell_type": "code",
   "execution_count": 33,
   "metadata": {},
   "outputs": [],
   "source": [
    "df['return'] = df['revenue'] / df['budget']\n"
   ]
  },
  {
   "cell_type": "code",
   "execution_count": 48,
   "metadata": {},
   "outputs": [
    {
     "data": {
      "text/plain": [
       "6769"
      ]
     },
     "execution_count": 48,
     "metadata": {},
     "output_type": "execute_result"
    }
   ],
   "source": [
    "df['return'].notnull().sum()"
   ]
  },
  {
   "cell_type": "markdown",
   "metadata": {},
   "source": [
    "We have close to 7000 movies for which we have data on revenue and budget ratio. This is close to 10% of the entire dataset. Although this may seem small, this is enough to perform very useful analysis and discover interesting insights about the world of movies."
   ]
  },
  {
   "cell_type": "code",
   "execution_count": 49,
   "metadata": {},
   "outputs": [],
   "source": [
    "df['year'] = pd.to_datetime(df['release_date'], errors='coerce').apply(lambda x: str(x).split('-')[0] if x != np.nan else np.nan)"
   ]
  },
  {
   "cell_type": "code",
   "execution_count": 50,
   "metadata": {},
   "outputs": [
    {
     "data": {
      "text/plain": [
       "False    61752\n",
       "True        16\n",
       "Name: adult, dtype: int64"
      ]
     },
     "execution_count": 50,
     "metadata": {},
     "output_type": "execute_result"
    }
   ],
   "source": [
    "df['adult'].value_counts()"
   ]
  },
  {
   "cell_type": "markdown",
   "metadata": {},
   "source": [
    "\n",
    "There are close to 0% adult movies in this dataset. The adult feature therefore is not of much use to us and can be safely dropped."
   ]
  },
  {
   "cell_type": "code",
   "execution_count": 51,
   "metadata": {},
   "outputs": [],
   "source": [
    "\n",
    "df = df.drop('adult', axis=1)"
   ]
  },
  {
   "cell_type": "code",
   "execution_count": 54,
   "metadata": {},
   "outputs": [],
   "source": [
    "# save the data\n",
    "df.to_csv('../data/movies_metadata_cleaned.csv')"
   ]
  },
  {
   "cell_type": "code",
   "execution_count": null,
   "metadata": {},
   "outputs": [],
   "source": []
  },
  {
   "cell_type": "markdown",
   "metadata": {},
   "source": [
    "# cast and crew"
   ]
  },
  {
   "cell_type": "markdown",
   "metadata": {},
   "source": [
    "Let us now take a look at the cast and crew of our movies. We do not have these details with us in our main dataset. However, we have a separate file consisting of the full cast and crew credits of all the Movielens Movies. Let us take a look at this credits data."
   ]
  },
  {
   "cell_type": "code",
   "execution_count": 55,
   "metadata": {},
   "outputs": [],
   "source": [
    "credits_df=pd.read_csv('../data/credits_metadata.csv')"
   ]
  },
  {
   "cell_type": "code",
   "execution_count": 56,
   "metadata": {},
   "outputs": [
    {
     "data": {
      "text/html": [
       "<div>\n",
       "<style scoped>\n",
       "    .dataframe tbody tr th:only-of-type {\n",
       "        vertical-align: middle;\n",
       "    }\n",
       "\n",
       "    .dataframe tbody tr th {\n",
       "        vertical-align: top;\n",
       "    }\n",
       "\n",
       "    .dataframe thead th {\n",
       "        text-align: right;\n",
       "    }\n",
       "</style>\n",
       "<table border=\"1\" class=\"dataframe\">\n",
       "  <thead>\n",
       "    <tr style=\"text-align: right;\">\n",
       "      <th></th>\n",
       "      <th>cast</th>\n",
       "      <th>crew</th>\n",
       "      <th>id</th>\n",
       "    </tr>\n",
       "  </thead>\n",
       "  <tbody>\n",
       "    <tr>\n",
       "      <th>0</th>\n",
       "      <td>[{'cast_id': 14, 'character': 'Woody (voice)',...</td>\n",
       "      <td>[{'name': 'Andrew Stanton', 'credit_id': '52fe...</td>\n",
       "      <td>862</td>\n",
       "    </tr>\n",
       "    <tr>\n",
       "      <th>1</th>\n",
       "      <td>[{'cast_id': 1, 'character': 'Alan Parrish', '...</td>\n",
       "      <td>[{'name': 'Larry J. Franco', 'credit_id': '52f...</td>\n",
       "      <td>8844</td>\n",
       "    </tr>\n",
       "    <tr>\n",
       "      <th>2</th>\n",
       "      <td>[{'cast_id': 2, 'character': 'Max Goldman', 'c...</td>\n",
       "      <td>[{'name': 'Gary Frutkoff', 'credit_id': '5af99...</td>\n",
       "      <td>15602</td>\n",
       "    </tr>\n",
       "    <tr>\n",
       "      <th>3</th>\n",
       "      <td>[{'cast_id': 1, 'character': 'Savannah Jackson...</td>\n",
       "      <td>[{'name': 'Forest Whitaker', 'credit_id': '52f...</td>\n",
       "      <td>31357</td>\n",
       "    </tr>\n",
       "    <tr>\n",
       "      <th>4</th>\n",
       "      <td>[{'cast_id': 1, 'character': 'George Banks', '...</td>\n",
       "      <td>[{'name': 'Alan Silvestri', 'credit_id': '52fe...</td>\n",
       "      <td>11862</td>\n",
       "    </tr>\n",
       "  </tbody>\n",
       "</table>\n",
       "</div>"
      ],
      "text/plain": [
       "                                                cast  \\\n",
       "0  [{'cast_id': 14, 'character': 'Woody (voice)',...   \n",
       "1  [{'cast_id': 1, 'character': 'Alan Parrish', '...   \n",
       "2  [{'cast_id': 2, 'character': 'Max Goldman', 'c...   \n",
       "3  [{'cast_id': 1, 'character': 'Savannah Jackson...   \n",
       "4  [{'cast_id': 1, 'character': 'George Banks', '...   \n",
       "\n",
       "                                                crew     id  \n",
       "0  [{'name': 'Andrew Stanton', 'credit_id': '52fe...    862  \n",
       "1  [{'name': 'Larry J. Franco', 'credit_id': '52f...   8844  \n",
       "2  [{'name': 'Gary Frutkoff', 'credit_id': '5af99...  15602  \n",
       "3  [{'name': 'Forest Whitaker', 'credit_id': '52f...  31357  \n",
       "4  [{'name': 'Alan Silvestri', 'credit_id': '52fe...  11862  "
      ]
     },
     "execution_count": 56,
     "metadata": {},
     "output_type": "execute_result"
    }
   ],
   "source": [
    "credits_df.head()"
   ]
  },
  {
   "cell_type": "markdown",
   "metadata": {},
   "source": [
    "<b> Credits Dataset </b>\n",
    "- <b>cast:</b> A stringified list of dictionaries consisting of cast names and the corresponding characters they played.\n",
    "- <b>crew:</b> A stringified list of dictionaries consisting of crew names and the function they performed.\n",
    "- <b>id:</b> The TMDB ID of movie"
   ]
  },
  {
   "cell_type": "markdown",
   "metadata": {},
   "source": [
    "We need to perform a left join of our original movies metadata dataframe with the credits dataframe on the TMDB Movie ID. Before we are able to perform this join, we need to make sure that the ID column of our main dataframe is clean and of type integer. To do this, let us try to perform an integer conversion of our IDs and if an exception is raised,we will replace the ID with NaN. We will then proceed to drop these rows from our dataframe"
   ]
  },
  {
   "cell_type": "code",
   "execution_count": 63,
   "metadata": {},
   "outputs": [],
   "source": [
    "def convert_int(x):\n",
    "    try:\n",
    "        return int(x)\n",
    "    except:\n",
    "        return np.nan"
   ]
  },
  {
   "cell_type": "code",
   "execution_count": 64,
   "metadata": {},
   "outputs": [],
   "source": [
    "df['id'] = df['id'].apply(convert_int)"
   ]
  },
  {
   "cell_type": "code",
   "execution_count": 65,
   "metadata": {},
   "outputs": [
    {
     "data": {
      "text/html": [
       "<div>\n",
       "<style scoped>\n",
       "    .dataframe tbody tr th:only-of-type {\n",
       "        vertical-align: middle;\n",
       "    }\n",
       "\n",
       "    .dataframe tbody tr th {\n",
       "        vertical-align: top;\n",
       "    }\n",
       "\n",
       "    .dataframe thead th {\n",
       "        text-align: right;\n",
       "    }\n",
       "</style>\n",
       "<table border=\"1\" class=\"dataframe\">\n",
       "  <thead>\n",
       "    <tr style=\"text-align: right;\">\n",
       "      <th></th>\n",
       "      <th>belongs_to_collection</th>\n",
       "      <th>budget</th>\n",
       "      <th>genres</th>\n",
       "      <th>homepage</th>\n",
       "      <th>id</th>\n",
       "      <th>imdb_id</th>\n",
       "      <th>original_language</th>\n",
       "      <th>overview</th>\n",
       "      <th>popularity</th>\n",
       "      <th>poster_path</th>\n",
       "      <th>...</th>\n",
       "      <th>runtime</th>\n",
       "      <th>spoken_languages</th>\n",
       "      <th>status</th>\n",
       "      <th>tagline</th>\n",
       "      <th>title</th>\n",
       "      <th>video</th>\n",
       "      <th>vote_average</th>\n",
       "      <th>vote_count</th>\n",
       "      <th>return</th>\n",
       "      <th>year</th>\n",
       "    </tr>\n",
       "  </thead>\n",
       "  <tbody>\n",
       "  </tbody>\n",
       "</table>\n",
       "<p>0 rows × 24 columns</p>\n",
       "</div>"
      ],
      "text/plain": [
       "Empty DataFrame\n",
       "Columns: [belongs_to_collection, budget, genres, homepage, id, imdb_id, original_language, overview, popularity, poster_path, production_companies, production_countries, release_date, revenue, runtime, spoken_languages, status, tagline, title, video, vote_average, vote_count, return, year]\n",
       "Index: []\n",
       "\n",
       "[0 rows x 24 columns]"
      ]
     },
     "execution_count": 65,
     "metadata": {},
     "output_type": "execute_result"
    }
   ],
   "source": [
    "df[df['id'].isnull()]"
   ]
  },
  {
   "cell_type": "code",
   "execution_count": 66,
   "metadata": {},
   "outputs": [],
   "source": [
    "df['id'] = df['id'].astype('int')"
   ]
  },
  {
   "cell_type": "code",
   "execution_count": 67,
   "metadata": {},
   "outputs": [
    {
     "data": {
      "text/plain": [
       "(61838, 26)"
      ]
     },
     "execution_count": 67,
     "metadata": {},
     "output_type": "execute_result"
    }
   ],
   "source": [
    "df = df.merge(credits_df, on='id')\n",
    "df.shape"
   ]
  },
  {
   "cell_type": "code",
   "execution_count": 68,
   "metadata": {},
   "outputs": [],
   "source": [
    "df['cast'] = df['cast'].apply(ast.literal_eval)\n",
    "df['crew'] = df['crew'].apply(ast.literal_eval)"
   ]
  },
  {
   "cell_type": "code",
   "execution_count": 69,
   "metadata": {},
   "outputs": [
    {
     "data": {
      "text/plain": [
       "0    [{'cast_id': 14, 'character': 'Woody (voice)',...\n",
       "1    [{'cast_id': 14, 'character': 'Woody (voice)',...\n",
       "2    [{'cast_id': 14, 'character': 'Woody (voice)',...\n",
       "3    [{'cast_id': 14, 'character': 'Woody (voice)',...\n",
       "4    [{'cast_id': 1, 'character': 'Alan Parrish', '...\n",
       "Name: cast, dtype: object"
      ]
     },
     "execution_count": 69,
     "metadata": {},
     "output_type": "execute_result"
    }
   ],
   "source": [
    "df.cast.head()"
   ]
  },
  {
   "cell_type": "code",
   "execution_count": 70,
   "metadata": {},
   "outputs": [],
   "source": [
    "df['cast_size'] = df['cast'].apply(lambda x: len(x))\n",
    "df['crew_size'] = df['crew'].apply(lambda x: len(x))"
   ]
  },
  {
   "cell_type": "code",
   "execution_count": 71,
   "metadata": {},
   "outputs": [
    {
     "data": {
      "text/plain": [
       "0    40\n",
       "1    40\n",
       "2    40\n",
       "3    40\n",
       "4    32\n",
       "Name: cast_size, dtype: int64"
      ]
     },
     "execution_count": 71,
     "metadata": {},
     "output_type": "execute_result"
    }
   ],
   "source": [
    "df.cast_size.head()"
   ]
  },
  {
   "cell_type": "code",
   "execution_count": 74,
   "metadata": {},
   "outputs": [],
   "source": [
    "df['cast'] = df['cast'].apply(lambda x: [i['name'] for i in x] if isinstance(x, list) else [])"
   ]
  },
  {
   "cell_type": "code",
   "execution_count": 75,
   "metadata": {},
   "outputs": [
    {
     "data": {
      "text/plain": [
       "0    [Tom Hanks, Tim Allen, Don Rickles, Jim Varney...\n",
       "1    [Tom Hanks, Tim Allen, Don Rickles, Jim Varney...\n",
       "2    [Tom Hanks, Tim Allen, Don Rickles, Jim Varney...\n",
       "3    [Tom Hanks, Tim Allen, Don Rickles, Jim Varney...\n",
       "4    [Robin Williams, Jonathan Hyde, Kirsten Dunst,...\n",
       "Name: cast, dtype: object"
      ]
     },
     "execution_count": 75,
     "metadata": {},
     "output_type": "execute_result"
    }
   ],
   "source": [
    "df.cast.head()"
   ]
  },
  {
   "cell_type": "code",
   "execution_count": 76,
   "metadata": {},
   "outputs": [],
   "source": [
    "def get_director(x):\n",
    "    for i in x:\n",
    "        if i['job'] == 'Director':\n",
    "            return i['name']\n",
    "    return np.nan"
   ]
  },
  {
   "cell_type": "code",
   "execution_count": 77,
   "metadata": {},
   "outputs": [],
   "source": [
    "\n",
    "df['director'] = df['crew'].apply(get_director)"
   ]
  },
  {
   "cell_type": "code",
   "execution_count": 78,
   "metadata": {},
   "outputs": [
    {
     "data": {
      "text/plain": [
       "0    John Lasseter\n",
       "1    John Lasseter\n",
       "2    John Lasseter\n",
       "3    John Lasseter\n",
       "4     Joe Johnston\n",
       "Name: director, dtype: object"
      ]
     },
     "execution_count": 78,
     "metadata": {},
     "output_type": "execute_result"
    }
   ],
   "source": [
    "df.director.head()"
   ]
  },
  {
   "cell_type": "code",
   "execution_count": 81,
   "metadata": {},
   "outputs": [
    {
     "name": "stdout",
     "output_type": "stream",
     "text": [
      "<class 'pandas.core.frame.DataFrame'>\n",
      "Int64Index: 61838 entries, 0 to 61837\n",
      "Data columns (total 29 columns):\n",
      " #   Column                 Non-Null Count  Dtype  \n",
      "---  ------                 --------------  -----  \n",
      " 0   belongs_to_collection  5971 non-null   object \n",
      " 1   budget                 11207 non-null  float64\n",
      " 2   genres                 61838 non-null  object \n",
      " 3   homepage               11277 non-null  object \n",
      " 4   id                     61838 non-null  int32  \n",
      " 5   imdb_id                61820 non-null  object \n",
      " 6   original_language      61838 non-null  object \n",
      " 7   overview               60937 non-null  object \n",
      " 8   popularity             61838 non-null  float64\n",
      " 9   poster_path            56056 non-null  object \n",
      " 10  production_companies   61838 non-null  object \n",
      " 11  production_countries   61838 non-null  object \n",
      " 12  release_date           61772 non-null  object \n",
      " 13  revenue                9640 non-null   float64\n",
      " 14  runtime                61661 non-null  float64\n",
      " 15  spoken_languages       61838 non-null  object \n",
      " 16  status                 61838 non-null  object \n",
      " 17  tagline                27335 non-null  object \n",
      " 18  title                  61838 non-null  object \n",
      " 19  video                  61838 non-null  bool   \n",
      " 20  vote_average           61838 non-null  float64\n",
      " 21  vote_count             61838 non-null  int64  \n",
      " 22  return                 6781 non-null   float64\n",
      " 23  year                   61838 non-null  object \n",
      " 24  cast                   61838 non-null  object \n",
      " 25  crew                   61838 non-null  object \n",
      " 26  cast_size              61838 non-null  int64  \n",
      " 27  crew_size              61838 non-null  int64  \n",
      " 28  director               61191 non-null  object \n",
      "dtypes: bool(1), float64(6), int32(1), int64(3), object(18)\n",
      "memory usage: 16.0+ MB\n"
     ]
    }
   ],
   "source": [
    "df.info()"
   ]
  },
  {
   "cell_type": "code",
   "execution_count": 90,
   "metadata": {},
   "outputs": [
    {
     "name": "stderr",
     "output_type": "stream",
     "text": [
      "C:\\Users\\kiran\\Anaconda3\\lib\\site-packages\\ipykernel_launcher.py:1: DeprecationWarning: The default dtype for empty Series will be 'object' instead of 'float64' in a future version. Specify a dtype explicitly to silence this warning.\n",
      "  \"\"\"Entry point for launching an IPython kernel.\n"
     ]
    },
    {
     "data": {
      "text/plain": [
       "0                 Tom Hanks\n",
       "0                 Tim Allen\n",
       "0               Don Rickles\n",
       "0                Jim Varney\n",
       "0             Wallace Shawn\n",
       "                ...        \n",
       "61837       Fernando Piazza\n",
       "61837    Margaret Rose Keil\n",
       "61837        Claudine Damon\n",
       "61837          Vera Besusso\n",
       "61837      Carlo Hintermann\n",
       "Length: 936310, dtype: object"
      ]
     },
     "execution_count": 90,
     "metadata": {},
     "output_type": "execute_result"
    }
   ],
   "source": [
    "s = df.apply(lambda x: pd.Series(x['cast']),axis=1).stack().reset_index(level=1, drop=True)\n",
    "s"
   ]
  },
  {
   "cell_type": "code",
   "execution_count": 91,
   "metadata": {},
   "outputs": [
    {
     "data": {
      "text/plain": [
       "0                 Tom Hanks\n",
       "0                 Tim Allen\n",
       "0               Don Rickles\n",
       "0                Jim Varney\n",
       "0             Wallace Shawn\n",
       "                ...        \n",
       "61837       Fernando Piazza\n",
       "61837    Margaret Rose Keil\n",
       "61837        Claudine Damon\n",
       "61837          Vera Besusso\n",
       "61837      Carlo Hintermann\n",
       "Name: actor, Length: 936310, dtype: object"
      ]
     },
     "execution_count": 91,
     "metadata": {},
     "output_type": "execute_result"
    }
   ],
   "source": [
    "s.name='actor'\n",
    "s"
   ]
  },
  {
   "cell_type": "code",
   "execution_count": 92,
   "metadata": {},
   "outputs": [],
   "source": [
    "cast_df = df.drop('cast', axis=1).join(s)"
   ]
  },
  {
   "cell_type": "code",
   "execution_count": 93,
   "metadata": {},
   "outputs": [
    {
     "data": {
      "text/plain": [
       "0        Tom Hanks\n",
       "0        Tim Allen\n",
       "0      Don Rickles\n",
       "0       Jim Varney\n",
       "0    Wallace Shawn\n",
       "Name: actor, dtype: object"
      ]
     },
     "execution_count": 93,
     "metadata": {},
     "output_type": "execute_result"
    }
   ],
   "source": [
    "cast_df['actor'].head()"
   ]
  },
  {
   "cell_type": "code",
   "execution_count": null,
   "metadata": {},
   "outputs": [],
   "source": [
    "cast_df.to_csv('../data/movies_metadata_castncrew.csv')"
   ]
  },
  {
   "cell_type": "code",
   "execution_count": null,
   "metadata": {},
   "outputs": [],
   "source": []
  }
 ],
 "metadata": {
  "kernelspec": {
   "display_name": "Python 3",
   "language": "python",
   "name": "python3"
  },
  "language_info": {
   "codemirror_mode": {
    "name": "ipython",
    "version": 3
   },
   "file_extension": ".py",
   "mimetype": "text/x-python",
   "name": "python",
   "nbconvert_exporter": "python",
   "pygments_lexer": "ipython3",
   "version": "3.7.3"
  }
 },
 "nbformat": 4,
 "nbformat_minor": 4
}
